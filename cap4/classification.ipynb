{
 "cells": [
  {
   "cell_type": "markdown",
   "id": "99f9aecd",
   "metadata": {},
   "source": [
    "three most common use cases of neural networks:\n",
    "   - binary classification, \n",
    "   - multiclass classification, \n",
    "   - and scalar regression"
   ]
  },
  {
   "cell_type": "markdown",
   "id": "ad5c0fbc",
   "metadata": {},
   "source": [
    "### 4.1 Classifying movie reviews: A binary classification"
   ]
  },
  {
   "cell_type": "markdown",
   "id": "1082f38d",
   "metadata": {},
   "source": [
    "IMDB dataset: a set of 50,000 highly polarized reviews from the Internet Movie Database. They’re split into 25,000 reviews for training and 25,000 reviews for testing, each set consisting of 50% negative and 50% positive reviews."
   ]
  },
  {
   "cell_type": "code",
   "execution_count": 2,
   "id": "3f4750d6",
   "metadata": {},
   "outputs": [],
   "source": [
    "from keras.datasets import imdb\n",
    "(train_data, train_labels), (test_data, test_labels) = imdb.load_data(num_word=10000)"
   ]
  },
  {
   "cell_type": "markdown",
   "id": "293b288e",
   "metadata": {},
   "source": [
    "the argument num_words=10000 means you’ll only keep the top 10,000 most frequently occurring words in the training data. Rare words will be discarded. This allows us to work with vector data of manageable size. If we didn’t set this limit, we’d be working with 88,585 unique words in the training data, which is unnecessarily large. Many of these words only occur in a single sample, and thus can’t be meaningfully used for classification."
   ]
  },
  {
   "cell_type": "markdown",
   "id": "0b3b9c01",
   "metadata": {},
   "source": [
    "The variables train_data and test_data are lists of reviews; each review is a list of word indices (encoding a sequence of words). train_labels and test_labels are lists of 0s and 1s, where 0 stands for negative and 1 stands for positive"
   ]
  },
  {
   "cell_type": "code",
   "execution_count": 3,
   "id": "b451c7d2",
   "metadata": {},
   "outputs": [
    {
     "ename": "SyntaxError",
     "evalue": "invalid syntax. Perhaps you forgot a comma? (2459448173.py, line 2)",
     "output_type": "error",
     "traceback": [
      "  \u001b[36mCell\u001b[39m\u001b[36m \u001b[39m\u001b[32mIn[3]\u001b[39m\u001b[32m, line 2\u001b[39m\n\u001b[31m    \u001b[39m\u001b[31m[1, 14, 22, 16, ... 178, 32]\u001b[39m\n                    ^\n\u001b[31mSyntaxError\u001b[39m\u001b[31m:\u001b[39m invalid syntax. Perhaps you forgot a comma?\n"
     ]
    }
   ],
   "source": [
    ">>> train_data[0] \n",
    "[1, 14, 22, 16, ... 178, 32] \n",
    ">>> train_labels[0] \n",
    "1"
   ]
  },
  {
   "cell_type": "markdown",
   "id": "734853a7",
   "metadata": {},
   "source": [
    "For kicks, here’s how you can quickly decode one of these reviews back to English words."
   ]
  },
  {
   "cell_type": "markdown",
   "id": "9c216211",
   "metadata": {},
   "source": [
    "### Listing 4.2 Decoding reviews back to text"
   ]
  },
  {
   "cell_type": "code",
   "execution_count": null,
   "id": "d59375c1",
   "metadata": {},
   "outputs": [
    {
     "name": "stdout",
     "output_type": "stream",
     "text": [
      "Downloading data from https://storage.googleapis.com/tensorflow/tf-keras-datasets/imdb_word_index.json\n",
      "\u001b[1m1641221/1641221\u001b[0m \u001b[32m━━━━━━━━━━━━━━━━━━━━\u001b[0m\u001b[37m\u001b[0m \u001b[1m1s\u001b[0m 0us/step\n",
      "? this film was just brilliant casting location scenery story direction everyone's really suited the part they played and you could just imagine being there robert redford's is an amazing actor and now the same being director norman's father came from the same scottish island as myself so i loved the fact there was a real connection with this film the witty remarks throughout the film were great it was just brilliant so much that i bought the film as soon as it was released for retail and would recommend it to everyone to watch and the fly fishing was amazing really cried at the end it was so sad and you know what they say if you cry at a film it must have been good and this definitely was also congratulations to the two little boy's that played the part's of norman and paul they were just brilliant children are often left out of the praising list i think because the stars that play them all grown up are such a big profile for the whole film but these children are amazing and should be praised for what they have done don't you think the whole story was so lovely because it was true and was someone's life after all that was shared with us all\n"
     ]
    }
   ],
   "source": [
    "word_index = imdb.get_word_index()\n",
    "#reverses it, mapping integer indices to words\n",
    "reverse_word_index = dict(\n",
    "    [(value,key) for (key,value) in word_index.items()]\n",
    ")\n",
    "#decodes the review. é offset de 3 pq 0,1 e 2 sao reservados para\n",
    "#\"padding\", \"start of sequence\", and \"uknown\"\n",
    "decoded_review = \" \".join(\n",
    "    [reverse_word_index.get(i - 3, \"?\") for i in train_data[0]]\n",
    ")\n",
    "print(decoded_review)"
   ]
  },
  {
   "cell_type": "markdown",
   "id": "1db2ef03",
   "metadata": {},
   "source": [
    "### Preparing the data"
   ]
  },
  {
   "cell_type": "markdown",
   "id": "77f573ad",
   "metadata": {},
   "source": [
    "You can’t directly feed lists of integers into a neural network. You have to turn your lists into tensors. There are two ways to do that:"
   ]
  },
  {
   "cell_type": "markdown",
   "id": "31344c70",
   "metadata": {},
   "source": [
    " - Pad your lists so that they all have the same length, turn them into an integer tensor of shape (samples, max_length), and start your model with a layer capable of handling such integer tensors (the Embedding layer, which we’ll cover in detail later in the book).\n",
    "  - Multi-hot encode your lists to turn them into vectors of 0s and 1s. This would mean, for instance, turning the sequence [8, 5] into a 10,000-dimensional vector that would be all 0s except for indices 8 and 5, which would be 1s. Then you could use a Dense layer, capable of handling floating-point vector data, as the first layer in your model."
   ]
  },
  {
   "cell_type": "markdown",
   "id": "e0fef41e",
   "metadata": {},
   "source": [
    "### Encoding the integer sequences via multi-hot encoding "
   ]
  },
  {
   "cell_type": "code",
   "execution_count": null,
   "id": "6162d810",
   "metadata": {},
   "outputs": [],
   "source": [
    "import numpy as np\n",
    "def vectorize_sequences(sequences, dimension=10000):\n",
    "    #create all-zero matrix \n",
    "    results = np.zeros((len(sequences), dimension))\n",
    "    for i, sequence in enumerate(sequences):\n",
    "        for j in sequence:\n",
    "            # Only set to 1 if the index is within bounds\n",
    "            if j < dimension:\n",
    "                results[i, j] = 1.\n",
    "    return results\n",
    "\n",
    "x_train = vectorize_sequences(train_data)\n",
    "x_test = vectorize_sequences(test_data)\n"
   ]
  },
  {
   "cell_type": "code",
   "execution_count": null,
   "id": "2b36f3ef",
   "metadata": {},
   "outputs": [
    {
     "data": {
      "text/plain": [
       "array([0., 1., 0., ..., 0., 0., 0.], shape=(10000,))"
      ]
     },
     "execution_count": 3,
     "metadata": {},
     "output_type": "execute_result"
    }
   ],
   "source": [
    "x_train[0]"
   ]
  },
  {
   "cell_type": "markdown",
   "id": "615fcba1",
   "metadata": {},
   "source": [
    "you should also vectorize your labels:"
   ]
  },
  {
   "cell_type": "code",
   "execution_count": null,
   "id": "8607a31a",
   "metadata": {},
   "outputs": [],
   "source": [
    "y_train = np.asarray(train_labels).astype(\"float32\")\n",
    "y_test = np.asarray(test_labels).astype(\"float32\")"
   ]
  },
  {
   "cell_type": "markdown",
   "id": "562ef649",
   "metadata": {},
   "source": [
    "### 4.1.3 building you model"
   ]
  },
  {
   "cell_type": "markdown",
   "id": "5075ac29",
   "metadata": {},
   "source": [
    "input data são vectors e labels sao scalars (1,0)\n",
    "\n",
    "um tipo de modelo que executa num problema de classification é uma pilha de camadas densamente conectadas com ativações relu"
   ]
  },
  {
   "cell_type": "markdown",
   "id": "cc983f20",
   "metadata": {},
   "source": [
    "There are two key architecture decisions to be made about such a stack of Dense layers:\n",
    "\n",
    "- how many layers to use\n",
    "- hoe many units to choose for each layer"
   ]
  },
  {
   "cell_type": "markdown",
   "id": "c67645b0",
   "metadata": {},
   "source": [
    "neste exemplo serão definidas:\n",
    "- 2 camadas intermediarias com 16 unidades cada\n",
    "- uma terceira camada que irá retornar a predição scalar comrelação ao sentiment do review atual\n",
    "\n",
    "input(vectorized text) -> Dense (units=16) -> Dense (units=16) -> Dense (units=1) -> output(probability)"
   ]
  },
  {
   "cell_type": "code",
   "execution_count": null,
   "id": "524062b9",
   "metadata": {},
   "outputs": [],
   "source": [
    "from tensorflow import keras\n",
    "from keras import layers\n",
    "\n",
    "model = keras.Sequential([\n",
    "    layers.Dense(16, activation=\"relu\"),\n",
    "    layers.Dense(16, activation=\"relu\"),\n",
    "    layers.Dense(1, activation=\"sigmoid\"),\n",
    "])"
   ]
  },
  {
   "cell_type": "markdown",
   "id": "c77b7638",
   "metadata": {},
   "source": [
    "The first argument being passed to each Dense layer is the number of units in the layer: the dimensionality of representation space of the layer. each such Dense layer with a relu activation implements the following chain of tensor operations:\n",
    "\n",
    "output = relu(dot(input,W) + b)"
   ]
  },
  {
   "cell_type": "markdown",
   "id": "321b8fbf",
   "metadata": {},
   "source": [
    "units =16 significa que o matrix de pesos W terá a shape (input_dimentsion, 16).\n",
    "\n",
    "a dimensionalidade da representação = quanta liberdade o modelo tem para aprender representações internas\n",
    "\n",
    "quanto mais unidades (higher dimensional representation space) permite que o modelo aprenda(learn) representações mais complexas, porém faz o modelo mais custoso e poderá aprender padrões indesejados (vai melhorar o training data mas nao o test data)\n"
   ]
  },
  {
   "cell_type": "markdown",
   "id": "cef24752",
   "metadata": {},
   "source": [
    "The intermediate layers use relu as their activation function, and the final layer uses a sigmoid activation so as to output a probability (a score between 0 and 1 indicating how likely the sample is to have the target “1”: how likely the review is to be positive).\n",
    "\n",
    " - relu (rectified linear unit) is a function meant to zero out negative values\n",
    "- sigmoid “squashes” arbitrary values into the [0, 1] interval, outputting something that can be interpreted as a probability"
   ]
  },
  {
   "cell_type": "markdown",
   "id": "ed647e86",
   "metadata": {},
   "source": [
    "agora escolher uma loss function e um optimizer.\n",
    "\n",
    "problema = classificação binária de probabilidade, loss function mais apropriada é binary crossentropy\n",
    "\n",
    "Crossentropy is a quantity from the field of information theory that measures the distance between probability distributions or, in this case, between the ground-truth distribution and your predictions."
   ]
  },
  {
   "cell_type": "markdown",
   "id": "69054ac9",
   "metadata": {},
   "source": [
    "As for the choice of the optimizer, we’ll go with rmsprop, which is a usually a good default choice for virtually any problem."
   ]
  },
  {
   "cell_type": "markdown",
   "id": "54b26d42",
   "metadata": {},
   "source": [
    "### compilando o modelo"
   ]
  },
  {
   "cell_type": "code",
   "execution_count": null,
   "id": "512574d9",
   "metadata": {},
   "outputs": [],
   "source": [
    "model.compile(optimizer=\"rmsprop\",\n",
    "            loss=\"binary_crossentropy\",\n",
    "            metrics=[\"accuracy\"])"
   ]
  },
  {
   "cell_type": "markdown",
   "id": "52bc336f",
   "metadata": {},
   "source": [
    "### validando a abordagem\n"
   ]
  },
  {
   "cell_type": "code",
   "execution_count": null,
   "id": "f9e142cf",
   "metadata": {},
   "outputs": [],
   "source": [
    "x_val = x_train[:10000]\n",
    "partial_x_train = x_train[10000:]\n",
    "y_val = y_train[:10000]\n",
    "partial_y_train = y_train[10000:]"
   ]
  },
  {
   "cell_type": "markdown",
   "id": "1c7946d3",
   "metadata": {},
   "source": [
    "We will now train the model for 20 epochs (20 iterations over all samples in the training data) in mini-batches of 512 samples. At the same time, we will monitor loss and accuracy on the 10,000 samples that we set apart. We do so by passing the validation data as the validation_data argument."
   ]
  },
  {
   "cell_type": "code",
   "execution_count": null,
   "id": "4d545de3",
   "metadata": {},
   "outputs": [
    {
     "name": "stdout",
     "output_type": "stream",
     "text": [
      "Epoch 1/20\n",
      "\u001b[1m30/30\u001b[0m \u001b[32m━━━━━━━━━━━━━━━━━━━━\u001b[0m\u001b[37m\u001b[0m \u001b[1m3s\u001b[0m 41ms/step - accuracy: 0.7886 - loss: 0.5224 - val_accuracy: 0.8615 - val_loss: 0.3940\n",
      "Epoch 2/20\n",
      "\u001b[1m30/30\u001b[0m \u001b[32m━━━━━━━━━━━━━━━━━━━━\u001b[0m\u001b[37m\u001b[0m \u001b[1m0s\u001b[0m 10ms/step - accuracy: 0.8913 - loss: 0.3242 - val_accuracy: 0.8660 - val_loss: 0.3300\n",
      "Epoch 3/20\n",
      "\u001b[1m30/30\u001b[0m \u001b[32m━━━━━━━━━━━━━━━━━━━━\u001b[0m\u001b[37m\u001b[0m \u001b[1m0s\u001b[0m 13ms/step - accuracy: 0.9181 - loss: 0.2425 - val_accuracy: 0.8779 - val_loss: 0.2987\n",
      "Epoch 4/20\n",
      "\u001b[1m30/30\u001b[0m \u001b[32m━━━━━━━━━━━━━━━━━━━━\u001b[0m\u001b[37m\u001b[0m \u001b[1m0s\u001b[0m 12ms/step - accuracy: 0.9314 - loss: 0.1978 - val_accuracy: 0.8857 - val_loss: 0.2834\n",
      "Epoch 5/20\n",
      "\u001b[1m30/30\u001b[0m \u001b[32m━━━━━━━━━━━━━━━━━━━━\u001b[0m\u001b[37m\u001b[0m \u001b[1m1s\u001b[0m 14ms/step - accuracy: 0.9415 - loss: 0.1698 - val_accuracy: 0.8860 - val_loss: 0.2814\n",
      "Epoch 6/20\n",
      "\u001b[1m30/30\u001b[0m \u001b[32m━━━━━━━━━━━━━━━━━━━━\u001b[0m\u001b[37m\u001b[0m \u001b[1m0s\u001b[0m 11ms/step - accuracy: 0.9539 - loss: 0.1414 - val_accuracy: 0.8851 - val_loss: 0.2849\n",
      "Epoch 7/20\n",
      "\u001b[1m30/30\u001b[0m \u001b[32m━━━━━━━━━━━━━━━━━━━━\u001b[0m\u001b[37m\u001b[0m \u001b[1m0s\u001b[0m 15ms/step - accuracy: 0.9595 - loss: 0.1231 - val_accuracy: 0.8831 - val_loss: 0.3106\n",
      "Epoch 8/20\n",
      "\u001b[1m30/30\u001b[0m \u001b[32m━━━━━━━━━━━━━━━━━━━━\u001b[0m\u001b[37m\u001b[0m \u001b[1m0s\u001b[0m 12ms/step - accuracy: 0.9689 - loss: 0.1038 - val_accuracy: 0.8836 - val_loss: 0.3145\n",
      "Epoch 9/20\n",
      "\u001b[1m30/30\u001b[0m \u001b[32m━━━━━━━━━━━━━━━━━━━━\u001b[0m\u001b[37m\u001b[0m \u001b[1m1s\u001b[0m 16ms/step - accuracy: 0.9717 - loss: 0.0928 - val_accuracy: 0.8786 - val_loss: 0.3285\n",
      "Epoch 10/20\n",
      "\u001b[1m30/30\u001b[0m \u001b[32m━━━━━━━━━━━━━━━━━━━━\u001b[0m\u001b[37m\u001b[0m \u001b[1m0s\u001b[0m 13ms/step - accuracy: 0.9773 - loss: 0.0790 - val_accuracy: 0.8805 - val_loss: 0.3431\n",
      "Epoch 11/20\n",
      "\u001b[1m30/30\u001b[0m \u001b[32m━━━━━━━━━━━━━━━━━━━━\u001b[0m\u001b[37m\u001b[0m \u001b[1m0s\u001b[0m 14ms/step - accuracy: 0.9815 - loss: 0.0690 - val_accuracy: 0.8751 - val_loss: 0.3694\n",
      "Epoch 12/20\n",
      "\u001b[1m30/30\u001b[0m \u001b[32m━━━━━━━━━━━━━━━━━━━━\u001b[0m\u001b[37m\u001b[0m \u001b[1m0s\u001b[0m 12ms/step - accuracy: 0.9859 - loss: 0.0575 - val_accuracy: 0.8756 - val_loss: 0.3986\n",
      "Epoch 13/20\n",
      "\u001b[1m30/30\u001b[0m \u001b[32m━━━━━━━━━━━━━━━━━━━━\u001b[0m\u001b[37m\u001b[0m \u001b[1m0s\u001b[0m 12ms/step - accuracy: 0.9866 - loss: 0.0523 - val_accuracy: 0.8744 - val_loss: 0.4089\n",
      "Epoch 14/20\n",
      "\u001b[1m30/30\u001b[0m \u001b[32m━━━━━━━━━━━━━━━━━━━━\u001b[0m\u001b[37m\u001b[0m \u001b[1m0s\u001b[0m 13ms/step - accuracy: 0.9897 - loss: 0.0443 - val_accuracy: 0.8746 - val_loss: 0.4291\n",
      "Epoch 15/20\n",
      "\u001b[1m30/30\u001b[0m \u001b[32m━━━━━━━━━━━━━━━━━━━━\u001b[0m\u001b[37m\u001b[0m \u001b[1m0s\u001b[0m 14ms/step - accuracy: 0.9939 - loss: 0.0340 - val_accuracy: 0.8682 - val_loss: 0.4670\n",
      "Epoch 16/20\n",
      "\u001b[1m30/30\u001b[0m \u001b[32m━━━━━━━━━━━━━━━━━━━━\u001b[0m\u001b[37m\u001b[0m \u001b[1m1s\u001b[0m 21ms/step - accuracy: 0.9931 - loss: 0.0332 - val_accuracy: 0.8607 - val_loss: 0.5633\n",
      "Epoch 17/20\n",
      "\u001b[1m30/30\u001b[0m \u001b[32m━━━━━━━━━━━━━━━━━━━━\u001b[0m\u001b[37m\u001b[0m \u001b[1m2s\u001b[0m 42ms/step - accuracy: 0.9929 - loss: 0.0306 - val_accuracy: 0.8735 - val_loss: 0.4972\n",
      "Epoch 18/20\n",
      "\u001b[1m30/30\u001b[0m \u001b[32m━━━━━━━━━━━━━━━━━━━━\u001b[0m\u001b[37m\u001b[0m \u001b[1m1s\u001b[0m 39ms/step - accuracy: 0.9965 - loss: 0.0225 - val_accuracy: 0.8729 - val_loss: 0.5194\n",
      "Epoch 19/20\n",
      "\u001b[1m30/30\u001b[0m \u001b[32m━━━━━━━━━━━━━━━━━━━━\u001b[0m\u001b[37m\u001b[0m \u001b[1m2s\u001b[0m 50ms/step - accuracy: 0.9964 - loss: 0.0208 - val_accuracy: 0.8662 - val_loss: 0.5536\n",
      "Epoch 20/20\n",
      "\u001b[1m30/30\u001b[0m \u001b[32m━━━━━━━━━━━━━━━━━━━━\u001b[0m\u001b[37m\u001b[0m \u001b[1m2s\u001b[0m 17ms/step - accuracy: 0.9967 - loss: 0.0199 - val_accuracy: 0.8712 - val_loss: 0.5725\n"
     ]
    }
   ],
   "source": [
    "history = model.fit(partial_x_train,\n",
    "                    partial_y_train,\n",
    "                    epochs=20,\n",
    "                    batch_size=512,\n",
    "                    validation_data=(x_val, y_val)\n",
    "                )"
   ]
  },
  {
   "cell_type": "code",
   "execution_count": null,
   "id": "c0792b31",
   "metadata": {},
   "outputs": [
    {
     "data": {
      "text/plain": [
       "dict_keys(['accuracy', 'loss', 'val_accuracy', 'val_loss'])"
      ]
     },
     "execution_count": 13,
     "metadata": {},
     "output_type": "execute_result"
    }
   ],
   "source": [
    "history_dict = history.history\n",
    "history_dict.keys()"
   ]
  },
  {
   "cell_type": "code",
   "execution_count": null,
   "id": "22d0773b",
   "metadata": {},
   "outputs": [
    {
     "data": {
      "image/png": "[encoded data removed]",
      "text/plain": [
       "<Figure size 640x480 with 1 Axes>"
      ]
     },
     "metadata": {},
     "output_type": "display_data"
    }
   ],
   "source": [
    "import matplotlib.pyplot as plt\n",
    "history_dict = history.history\n",
    "loss_values = history_dict[\"loss\"]\n",
    "val_loss_values = history_dict[\"val_loss\"]\n",
    "epochs = range(1, len(loss_values) + 1)\n",
    "plt.plot(epochs, loss_values, \"bo\", label=\"Training loss\")\n",
    "plt.plot(epochs, val_loss_values, \"b\", label=\"Validation loss\")\n",
    "plt.title(\"Training and validation loss\")\n",
    "plt.xlabel(\"Epochs\")\n",
    "plt.ylabel(\"Loss\")\n",
    "plt.legend()\n",
    "plt.show()\n"
   ]
  },
  {
   "cell_type": "code",
   "execution_count": null,
   "id": "5d62d520",
   "metadata": {},
   "outputs": [
    {
     "data": {
      "image/png": "[encoded data removed]",
      "text/plain": [
       "<Figure size 640x480 with 1 Axes>"
      ]
     },
     "metadata": {},
     "output_type": "display_data"
    }
   ],
   "source": [
    "plt.clf() \n",
    "acc = history_dict[\"accuracy\"] \n",
    "val_acc = history_dict[\"val_accuracy\"] \n",
    "plt.plot(epochs, acc, \"bo\", label=\"Training acc\") \n",
    "plt.plot(epochs, val_acc, \"b\", label=\"Validation acc\") \n",
    "plt.title(\"Training and validation accuracy\") \n",
    "plt.xlabel(\"Epochs\") \n",
    "plt.ylabel(\"Accuracy\") \n",
    "plt.legend() \n",
    "plt.show()"
   ]
  },
  {
   "cell_type": "markdown",
   "id": "9e1e2a78",
   "metadata": {},
   "source": [
    "podemos ver um caso de overfitting, onde o modelo se desempenha bem nos dados de treinamento, mas não nos de teste."
   ]
  },
  {
   "cell_type": "markdown",
   "id": "25fdfdfe",
   "metadata": {},
   "source": [
    "aprende representações especificas aos dados de treinamento e não são generalizaveis fora do training set"
   ]
  },
  {
   "cell_type": "markdown",
   "id": "8760ba65",
   "metadata": {},
   "source": [
    "In this case, to prevent overfitting, you could stop training after four epochs. In general, you can use a range of techniques to mitigate overfitting, which we’ll cover in chapter 5."
   ]
  },
  {
   "cell_type": "markdown",
   "id": "a17ef044",
   "metadata": {},
   "source": [
    "Let’s train a new model from scratch for four epochs and then evaluate it on the test data.!"
   ]
  },
  {
   "cell_type": "markdown",
   "id": "c1dc8915",
   "metadata": {},
   "source": [
    "### 4.10 Retraining a model from scratch"
   ]
  },
  {
   "cell_type": "code",
   "execution_count": null,
   "id": "b74710fc",
   "metadata": {},
   "outputs": [
    {
     "name": "stdout",
     "output_type": "stream",
     "text": [
      "Epoch 1/4\n",
      "\u001b[1m49/49\u001b[0m \u001b[32m━━━━━━━━━━━━━━━━━━━━\u001b[0m\u001b[37m\u001b[0m \u001b[1m1s\u001b[0m 6ms/step - accuracy: 0.8156 - loss: 0.4523\n",
      "Epoch 2/4\n",
      "\u001b[1m49/49\u001b[0m \u001b[32m━━━━━━━━━━━━━━━━━━━━\u001b[0m\u001b[37m\u001b[0m \u001b[1m0s\u001b[0m 6ms/step - accuracy: 0.9032 - loss: 0.2675\n",
      "Epoch 3/4\n",
      "\u001b[1m49/49\u001b[0m \u001b[32m━━━━━━━━━━━━━━━━━━━━\u001b[0m\u001b[37m\u001b[0m \u001b[1m1s\u001b[0m 10ms/step - accuracy: 0.9239 - loss: 0.2111\n",
      "Epoch 4/4\n",
      "\u001b[1m49/49\u001b[0m \u001b[32m━━━━━━━━━━━━━━━━━━━━\u001b[0m\u001b[37m\u001b[0m \u001b[1m0s\u001b[0m 9ms/step - accuracy: 0.9345 - loss: 0.1817\n",
      "\u001b[1m782/782\u001b[0m \u001b[32m━━━━━━━━━━━━━━━━━━━━\u001b[0m\u001b[37m\u001b[0m \u001b[1m2s\u001b[0m 2ms/step - accuracy: 0.8796 - loss: 0.3011\n"
     ]
    }
   ],
   "source": [
    "model = keras.Sequential([\n",
    "    layers.Dense(16, activation=\"relu\"),\n",
    "    layers.Dense(16, activation=\"relu\"),\n",
    "    layers.Dense(1,activation=\"sigmoid\")\n",
    "])\n",
    "model.compile(optimizer=\"rmsprop\",\n",
    "            loss=\"binary_crossentropy\",\n",
    "            metrics=[\"accuracy\"])\n",
    "model.fit(x_train,y_train,epochs=4,batch_size=512)\n",
    "results=model.evaluate(x_test, y_test)"
   ]
  },
  {
   "cell_type": "code",
   "execution_count": null,
   "id": "9236df6b",
   "metadata": {},
   "outputs": [
    {
     "name": "stdout",
     "output_type": "stream",
     "text": [
      "[0.3011320233345032, 0.8795999884605408]\n"
     ]
    }
   ],
   "source": [
    "print(results)"
   ]
  },
  {
   "cell_type": "markdown",
   "id": "2704cade",
   "metadata": {},
   "source": [
    "0,30 -> test loss\n",
    "\n",
    "0,8795 -> test accuracy do modelo"
   ]
  },
  {
   "cell_type": "markdown",
   "id": "fc92bfc5",
   "metadata": {},
   "source": [
    "Using trained model to generate predictions on new data"
   ]
  },
  {
   "cell_type": "code",
   "execution_count": 4,
   "id": "9765fc30",
   "metadata": {},
   "outputs": [
    {
     "ename": "NameError",
     "evalue": "name 'model' is not defined",
     "output_type": "error",
     "traceback": [
      "\u001b[31m---------------------------------------------------------------------------\u001b[39m",
      "\u001b[31mNameError\u001b[39m                                 Traceback (most recent call last)",
      "\u001b[36mCell\u001b[39m\u001b[36m \u001b[39m\u001b[32mIn[4]\u001b[39m\u001b[32m, line 1\u001b[39m\n\u001b[32m----> \u001b[39m\u001b[32m1\u001b[39m \u001b[43mmodel\u001b[49m.predict(x_test)\n",
      "\u001b[31mNameError\u001b[39m: name 'model' is not defined"
     ]
    }
   ],
   "source": [
    "model.predict(x_test)"
   ]
  }
 ],
 "metadata": {
  "kernelspec": {
   "display_name": "env",
   "language": "python",
   "name": "python3"
  },
  "language_info": {
   "codemirror_mode": {
    "name": "ipython",
    "version": 3
   },
   "file_extension": ".py",
   "mimetype": "text/x-python",
   "name": "python",
   "nbconvert_exporter": "python",
   "pygments_lexer": "ipython3",
   "version": "3.13.7"
  }
 },
 "nbformat": 4,
 "nbformat_minor": 5
}
