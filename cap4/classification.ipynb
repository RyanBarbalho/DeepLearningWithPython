{
 "cells": [
  {
   "cell_type": "markdown",
   "id": "99f9aecd",
   "metadata": {},
   "source": [
    "three most common use cases of neural networks:\n",
    "   - binary classification, \n",
    "   - multiclass classification, \n",
    "   - and scalar regression"
   ]
  },
  {
   "cell_type": "markdown",
   "id": "ad5c0fbc",
   "metadata": {},
   "source": [
    "### 4.1 Classifying movie reviews: A binary classification"
   ]
  },
  {
   "cell_type": "markdown",
   "id": "1082f38d",
   "metadata": {},
   "source": [
    "IMDB dataset: a set of 50,000 highly polarized reviews from the Internet Movie Database. They’re split into 25,000 reviews for training and 25,000 reviews for testing, each set consisting of 50% negative and 50% positive reviews."
   ]
  },
  {
   "cell_type": "code",
   "execution_count": 5,
   "id": "3f4750d6",
   "metadata": {},
   "outputs": [],
   "source": [
    "from keras.datasets import imdb\n",
    "(train_data, train_labels), (test_data, test_labels) = imdb.load_data(num_word=10000)"
   ]
  },
  {
   "cell_type": "markdown",
   "id": "293b288e",
   "metadata": {},
   "source": [
    "the argument num_words=10000 means you’ll only keep the top 10,000 most frequently occurring words in the training data. Rare words will be discarded. This allows us to work with vector data of manageable size. If we didn’t set this limit, we’d be working with 88,585 unique words in the training data, which is unnecessarily large. Many of these words only occur in a single sample, and thus can’t be meaningfully used for classification."
   ]
  },
  {
   "cell_type": "markdown",
   "id": "0b3b9c01",
   "metadata": {},
   "source": [
    "The variables train_data and test_data are lists of reviews; each review is a list of word indices (encoding a sequence of words). train_labels and test_labels are lists of 0s and 1s, where 0 stands for negative and 1 stands for positive"
   ]
  },
  {
   "cell_type": "code",
   "execution_count": 7,
   "id": "b451c7d2",
   "metadata": {},
   "outputs": [
    {
     "ename": "SyntaxError",
     "evalue": "invalid syntax. Perhaps you forgot a comma? (2459448173.py, line 2)",
     "output_type": "error",
     "traceback": [
      "  \u001b[36mCell\u001b[39m\u001b[36m \u001b[39m\u001b[32mIn[7]\u001b[39m\u001b[32m, line 2\u001b[39m\n\u001b[31m    \u001b[39m\u001b[31m[1, 14, 22, 16, ... 178, 32]\u001b[39m\n                    ^\n\u001b[31mSyntaxError\u001b[39m\u001b[31m:\u001b[39m invalid syntax. Perhaps you forgot a comma?\n"
     ]
    }
   ],
   "source": [
    ">>> train_data[0] \n",
    "[1, 14, 22, 16, ... 178, 32] \n",
    ">>> train_labels[0] \n",
    "1"
   ]
  },
  {
   "cell_type": "markdown",
   "id": "734853a7",
   "metadata": {},
   "source": [
    "For kicks, here’s how you can quickly decode one of these reviews back to English words."
   ]
  },
  {
   "cell_type": "markdown",
   "id": "9c216211",
   "metadata": {},
   "source": [
    "### Listing 4.2 Decoding reviews back to text"
   ]
  },
  {
   "cell_type": "code",
   "execution_count": 8,
   "id": "d59375c1",
   "metadata": {},
   "outputs": [
    {
     "name": "stdout",
     "output_type": "stream",
     "text": [
      "? this film was just brilliant casting location scenery story direction everyone's really suited the part they played and you could just imagine being there robert redford's is an amazing actor and now the same being director norman's father came from the same scottish island as myself so i loved the fact there was a real connection with this film the witty remarks throughout the film were great it was just brilliant so much that i bought the film as soon as it was released for retail and would recommend it to everyone to watch and the fly fishing was amazing really cried at the end it was so sad and you know what they say if you cry at a film it must have been good and this definitely was also congratulations to the two little boy's that played the part's of norman and paul they were just brilliant children are often left out of the praising list i think because the stars that play them all grown up are such a big profile for the whole film but these children are amazing and should be praised for what they have done don't you think the whole story was so lovely because it was true and was someone's life after all that was shared with us all\n"
     ]
    }
   ],
   "source": [
    "word_index = imdb.get_word_index()\n",
    "#reverses it, mapping integer indices to words\n",
    "reverse_word_index = dict(\n",
    "    [(value,key) for (key,value) in word_index.items()]\n",
    ")\n",
    "#decodes the review. é offset de 3 pq 0,1 e 2 sao reservados para\n",
    "#\"padding\", \"start of sequence\", and \"uknown\"\n",
    "decoded_review = \" \".join(\n",
    "    [reverse_word_index.get(i - 3, \"?\") for i in train_data[0]]\n",
    ")\n",
    "print(decoded_review)"
   ]
  },
  {
   "cell_type": "markdown",
   "id": "1db2ef03",
   "metadata": {},
   "source": [
    "### Preparing the data"
   ]
  },
  {
   "cell_type": "markdown",
   "id": "77f573ad",
   "metadata": {},
   "source": [
    "You can’t directly feed lists of integers into a neural network. You have to turn your lists into tensors. There are two ways to do that:"
   ]
  },
  {
   "cell_type": "markdown",
   "id": "31344c70",
   "metadata": {},
   "source": [
    " - Pad your lists so that they all have the same length, turn them into an integer tensor of shape (samples, max_length), and start your model with a layer capable of handling such integer tensors (the Embedding layer, which we’ll cover in detail later in the book).\n",
    "  - Multi-hot encode your lists to turn them into vectors of 0s and 1s. This would mean, for instance, turning the sequence [8, 5] into a 10,000-dimensional vector that would be all 0s except for indices 8 and 5, which would be 1s. Then you could use a Dense layer, capable of handling floating-point vector data, as the first layer in your model."
   ]
  },
  {
   "cell_type": "markdown",
   "id": "e0fef41e",
   "metadata": {},
   "source": [
    "### Encoding the integer sequences via multi-hot encoding "
   ]
  },
  {
   "cell_type": "code",
   "execution_count": 9,
   "id": "6162d810",
   "metadata": {},
   "outputs": [],
   "source": [
    "import numpy as np\n",
    "def vectorize_sequences(sequences, dimension=10000):\n",
    "    #create all-zero matrix \n",
    "    results = np.zeros((len(sequences), dimension))\n",
    "    for i, sequence in enumerate(sequences):\n",
    "        for j in sequence:\n",
    "            # Only set to 1 if the index is within bounds\n",
    "            if j < dimension:\n",
    "                results[i, j] = 1.\n",
    "    return results\n",
    "\n",
    "x_train = vectorize_sequences(train_data)\n",
    "x_test = vectorize_sequences(test_data)\n"
   ]
  },
  {
   "cell_type": "code",
   "execution_count": 10,
   "id": "2b36f3ef",
   "metadata": {},
   "outputs": [
    {
     "data": {
      "text/plain": [
       "array([0., 1., 0., ..., 0., 0., 0.], shape=(10000,))"
      ]
     },
     "execution_count": 10,
     "metadata": {},
     "output_type": "execute_result"
    }
   ],
   "source": [
    "x_train[0]"
   ]
  },
  {
   "cell_type": "markdown",
   "id": "615fcba1",
   "metadata": {},
   "source": [
    "you should also vectorize your labels:"
   ]
  },
  {
   "cell_type": "code",
   "execution_count": 11,
   "id": "8607a31a",
   "metadata": {},
   "outputs": [],
   "source": [
    "y_train = np.asarray(train_labels).astype(\"float32\")\n",
    "y_test = np.asarray(test_labels).astype(\"float32\")"
   ]
  },
  {
   "cell_type": "markdown",
   "id": "562ef649",
   "metadata": {},
   "source": [
    "### 4.1.3 building you model"
   ]
  },
  {
   "cell_type": "markdown",
   "id": "5075ac29",
   "metadata": {},
   "source": [
    "input data são vectors e labels sao scalars (1,0)\n",
    "\n",
    "um tipo de modelo que executa num problema de classification é uma pilha de camadas densamente conectadas com ativações relu"
   ]
  },
  {
   "cell_type": "markdown",
   "id": "cc983f20",
   "metadata": {},
   "source": [
    "There are two key architecture decisions to be made about such a stack of Dense layers:\n",
    "\n",
    "- how many layers to use\n",
    "- hoe many units to choose for each layer"
   ]
  },
  {
   "cell_type": "markdown",
   "id": "c67645b0",
   "metadata": {},
   "source": [
    "neste exemplo serão definidas:\n",
    "- 2 camadas intermediarias com 16 unidades cada\n",
    "- uma terceira camada que irá retornar a predição scalar comrelação ao sentiment do review atual\n",
    "\n",
    "input(vectorized text) -> Dense (units=16) -> Dense (units=16) -> Dense (units=1) -> output(probability)"
   ]
  },
  {
   "cell_type": "code",
   "execution_count": 12,
   "id": "524062b9",
   "metadata": {},
   "outputs": [],
   "source": [
    "from tensorflow import keras\n",
    "from keras import layers\n",
    "\n",
    "model = keras.Sequential([\n",
    "    layers.Dense(16, activation=\"relu\"),\n",
    "    layers.Dense(16, activation=\"relu\"),\n",
    "    layers.Dense(1, activation=\"sigmoid\"),\n",
    "])"
   ]
  },
  {
   "cell_type": "markdown",
   "id": "c77b7638",
   "metadata": {},
   "source": [
    "The first argument being passed to each Dense layer is the number of units in the layer: the dimensionality of representation space of the layer. each such Dense layer with a relu activation implements the following chain of tensor operations:\n",
    "\n",
    "output = relu(dot(input,W) + b)"
   ]
  },
  {
   "cell_type": "markdown",
   "id": "321b8fbf",
   "metadata": {},
   "source": [
    "units =16 significa que o matrix de pesos W terá a shape (input_dimentsion, 16).\n",
    "\n",
    "a dimensionalidade da representação = quanta liberdade o modelo tem para aprender representações internas\n",
    "\n",
    "quanto mais unidades (higher dimensional representation space) permite que o modelo aprenda(learn) representações mais complexas, porém faz o modelo mais custoso e poderá aprender padrões indesejados (vai melhorar o training data mas nao o test data)\n"
   ]
  },
  {
   "cell_type": "markdown",
   "id": "cef24752",
   "metadata": {},
   "source": [
    "The intermediate layers use relu as their activation function, and the final layer uses a sigmoid activation so as to output a probability (a score between 0 and 1 indicating how likely the sample is to have the target “1”: how likely the review is to be positive).\n",
    "\n",
    " - relu (rectified linear unit) is a function meant to zero out negative values\n",
    "- sigmoid “squashes” arbitrary values into the [0, 1] interval, outputting something that can be interpreted as a probability"
   ]
  },
  {
   "cell_type": "markdown",
   "id": "ed647e86",
   "metadata": {},
   "source": [
    "agora escolher uma loss function e um optimizer.\n",
    "\n",
    "problema = classificação binária de probabilidade, loss function mais apropriada é binary crossentropy\n",
    "\n",
    "Crossentropy is a quantity from the field of information theory that measures the distance between probability distributions or, in this case, between the ground-truth distribution and your predictions."
   ]
  },
  {
   "cell_type": "markdown",
   "id": "69054ac9",
   "metadata": {},
   "source": [
    "As for the choice of the optimizer, we’ll go with rmsprop, which is a usually a good default choice for virtually any problem."
   ]
  },
  {
   "cell_type": "markdown",
   "id": "54b26d42",
   "metadata": {},
   "source": [
    "### compilando o modelo"
   ]
  },
  {
   "cell_type": "code",
   "execution_count": 13,
   "id": "512574d9",
   "metadata": {},
   "outputs": [],
   "source": [
    "model.compile(optimizer=\"rmsprop\",\n",
    "            loss=\"binary_crossentropy\",\n",
    "            metrics=[\"accuracy\"])"
   ]
  },
  {
   "cell_type": "markdown",
   "id": "52bc336f",
   "metadata": {},
   "source": [
    "### validando a abordagem\n"
   ]
  },
  {
   "cell_type": "code",
   "execution_count": 14,
   "id": "f9e142cf",
   "metadata": {},
   "outputs": [],
   "source": [
    "x_val = x_train[:10000]\n",
    "partial_x_train = x_train[10000:]\n",
    "y_val = y_train[:10000]\n",
    "partial_y_train = y_train[10000:]"
   ]
  },
  {
   "cell_type": "markdown",
   "id": "1c7946d3",
   "metadata": {},
   "source": [
    "We will now train the model for 20 epochs (20 iterations over all samples in the training data) in mini-batches of 512 samples. At the same time, we will monitor loss and accuracy on the 10,000 samples that we set apart. We do so by passing the validation data as the validation_data argument."
   ]
  },
  {
   "cell_type": "code",
   "execution_count": 15,
   "id": "4d545de3",
   "metadata": {},
   "outputs": [
    {
     "name": "stdout",
     "output_type": "stream",
     "text": [
      "Epoch 1/20\n",
      "\u001b[1m30/30\u001b[0m \u001b[32m━━━━━━━━━━━━━━━━━━━━\u001b[0m\u001b[37m\u001b[0m \u001b[1m2s\u001b[0m 32ms/step - accuracy: 0.7783 - loss: 0.5290 - val_accuracy: 0.8685 - val_loss: 0.3960\n",
      "Epoch 2/20\n",
      "\u001b[1m30/30\u001b[0m \u001b[32m━━━━━━━━━━━━━━━━━━━━\u001b[0m\u001b[37m\u001b[0m \u001b[1m0s\u001b[0m 9ms/step - accuracy: 0.8959 - loss: 0.3196 - val_accuracy: 0.8865 - val_loss: 0.3112\n",
      "Epoch 3/20\n",
      "\u001b[1m30/30\u001b[0m \u001b[32m━━━━━━━━━━━━━━━━━━━━\u001b[0m\u001b[37m\u001b[0m \u001b[1m0s\u001b[0m 9ms/step - accuracy: 0.9230 - loss: 0.2364 - val_accuracy: 0.8881 - val_loss: 0.2857\n",
      "Epoch 4/20\n",
      "\u001b[1m30/30\u001b[0m \u001b[32m━━━━━━━━━━━━━━━━━━━━\u001b[0m\u001b[37m\u001b[0m \u001b[1m0s\u001b[0m 9ms/step - accuracy: 0.9400 - loss: 0.1868 - val_accuracy: 0.8861 - val_loss: 0.2836\n",
      "Epoch 5/20\n",
      "\u001b[1m30/30\u001b[0m \u001b[32m━━━━━━━━━━━━━━━━━━━━\u001b[0m\u001b[37m\u001b[0m \u001b[1m0s\u001b[0m 9ms/step - accuracy: 0.9498 - loss: 0.1550 - val_accuracy: 0.8792 - val_loss: 0.3018\n",
      "Epoch 6/20\n",
      "\u001b[1m30/30\u001b[0m \u001b[32m━━━━━━━━━━━━━━━━━━━━\u001b[0m\u001b[37m\u001b[0m \u001b[1m0s\u001b[0m 8ms/step - accuracy: 0.9599 - loss: 0.1304 - val_accuracy: 0.8725 - val_loss: 0.3389\n",
      "Epoch 7/20\n",
      "\u001b[1m30/30\u001b[0m \u001b[32m━━━━━━━━━━━━━━━━━━━━\u001b[0m\u001b[37m\u001b[0m \u001b[1m0s\u001b[0m 9ms/step - accuracy: 0.9685 - loss: 0.1072 - val_accuracy: 0.8806 - val_loss: 0.3206\n",
      "Epoch 8/20\n",
      "\u001b[1m30/30\u001b[0m \u001b[32m━━━━━━━━━━━━━━━━━━━━\u001b[0m\u001b[37m\u001b[0m \u001b[1m0s\u001b[0m 9ms/step - accuracy: 0.9772 - loss: 0.0876 - val_accuracy: 0.8782 - val_loss: 0.3155\n",
      "Epoch 9/20\n",
      "\u001b[1m30/30\u001b[0m \u001b[32m━━━━━━━━━━━━━━━━━━━━\u001b[0m\u001b[37m\u001b[0m \u001b[1m0s\u001b[0m 9ms/step - accuracy: 0.9804 - loss: 0.0734 - val_accuracy: 0.8798 - val_loss: 0.3500\n",
      "Epoch 10/20\n",
      "\u001b[1m30/30\u001b[0m \u001b[32m━━━━━━━━━━━━━━━━━━━━\u001b[0m\u001b[37m\u001b[0m \u001b[1m0s\u001b[0m 9ms/step - accuracy: 0.9858 - loss: 0.0598 - val_accuracy: 0.8792 - val_loss: 0.3663\n",
      "Epoch 11/20\n",
      "\u001b[1m30/30\u001b[0m \u001b[32m━━━━━━━━━━━━━━━━━━━━\u001b[0m\u001b[37m\u001b[0m \u001b[1m0s\u001b[0m 9ms/step - accuracy: 0.9888 - loss: 0.0505 - val_accuracy: 0.8777 - val_loss: 0.3857\n",
      "Epoch 12/20\n",
      "\u001b[1m30/30\u001b[0m \u001b[32m━━━━━━━━━━━━━━━━━━━━\u001b[0m\u001b[37m\u001b[0m \u001b[1m0s\u001b[0m 8ms/step - accuracy: 0.9934 - loss: 0.0380 - val_accuracy: 0.8785 - val_loss: 0.4050\n",
      "Epoch 13/20\n",
      "\u001b[1m30/30\u001b[0m \u001b[32m━━━━━━━━━━━━━━━━━━━━\u001b[0m\u001b[37m\u001b[0m \u001b[1m0s\u001b[0m 9ms/step - accuracy: 0.9954 - loss: 0.0296 - val_accuracy: 0.8786 - val_loss: 0.4273\n",
      "Epoch 14/20\n",
      "\u001b[1m30/30\u001b[0m \u001b[32m━━━━━━━━━━━━━━━━━━━━\u001b[0m\u001b[37m\u001b[0m \u001b[1m0s\u001b[0m 9ms/step - accuracy: 0.9954 - loss: 0.0280 - val_accuracy: 0.8755 - val_loss: 0.4368\n",
      "Epoch 15/20\n",
      "\u001b[1m30/30\u001b[0m \u001b[32m━━━━━━━━━━━━━━━━━━━━\u001b[0m\u001b[37m\u001b[0m \u001b[1m0s\u001b[0m 9ms/step - accuracy: 0.9981 - loss: 0.0189 - val_accuracy: 0.8650 - val_loss: 0.4858\n",
      "Epoch 16/20\n",
      "\u001b[1m30/30\u001b[0m \u001b[32m━━━━━━━━━━━━━━━━━━━━\u001b[0m\u001b[37m\u001b[0m \u001b[1m0s\u001b[0m 9ms/step - accuracy: 0.9985 - loss: 0.0161 - val_accuracy: 0.8734 - val_loss: 0.5096\n",
      "Epoch 17/20\n",
      "\u001b[1m30/30\u001b[0m \u001b[32m━━━━━━━━━━━━━━━━━━━━\u001b[0m\u001b[37m\u001b[0m \u001b[1m0s\u001b[0m 9ms/step - accuracy: 0.9992 - loss: 0.0121 - val_accuracy: 0.8599 - val_loss: 0.5594\n",
      "Epoch 18/20\n",
      "\u001b[1m30/30\u001b[0m \u001b[32m━━━━━━━━━━━━━━━━━━━━\u001b[0m\u001b[37m\u001b[0m \u001b[1m0s\u001b[0m 8ms/step - accuracy: 0.9981 - loss: 0.0130 - val_accuracy: 0.8722 - val_loss: 0.5293\n",
      "Epoch 19/20\n",
      "\u001b[1m30/30\u001b[0m \u001b[32m━━━━━━━━━━━━━━━━━━━━\u001b[0m\u001b[37m\u001b[0m \u001b[1m0s\u001b[0m 9ms/step - accuracy: 0.9998 - loss: 0.0061 - val_accuracy: 0.8722 - val_loss: 0.5529\n",
      "Epoch 20/20\n",
      "\u001b[1m30/30\u001b[0m \u001b[32m━━━━━━━━━━━━━━━━━━━━\u001b[0m\u001b[37m\u001b[0m \u001b[1m0s\u001b[0m 9ms/step - accuracy: 0.9991 - loss: 0.0079 - val_accuracy: 0.8736 - val_loss: 0.5711\n"
     ]
    }
   ],
   "source": [
    "history = model.fit(partial_x_train,\n",
    "                    partial_y_train,\n",
    "                    epochs=20,\n",
    "                    batch_size=512,\n",
    "                    validation_data=(x_val, y_val)\n",
    "                )"
   ]
  },
  {
   "cell_type": "code",
   "execution_count": 16,
   "id": "c0792b31",
   "metadata": {},
   "outputs": [
    {
     "data": {
      "text/plain": [
       "dict_keys(['accuracy', 'loss', 'val_accuracy', 'val_loss'])"
      ]
     },
     "execution_count": 16,
     "metadata": {},
     "output_type": "execute_result"
    }
   ],
   "source": [
    "history_dict = history.history\n",
    "history_dict.keys()"
   ]
  },
  {
   "cell_type": "code",
   "execution_count": 17,
   "id": "22d0773b",
   "metadata": {},
   "outputs": [
    {
     "data": {
      "image/png": "[encoded data removed]",
      "text/plain": [
       "<Figure size 640x480 with 1 Axes>"
      ]
     },
     "metadata": {},
     "output_type": "display_data"
    }
   ],
   "source": [
    "import matplotlib.pyplot as plt\n",
    "history_dict = history.history\n",
    "loss_values = history_dict[\"loss\"]\n",
    "val_loss_values = history_dict[\"val_loss\"]\n",
    "epochs = range(1, len(loss_values) + 1)\n",
    "plt.plot(epochs, loss_values, \"bo\", label=\"Training loss\")\n",
    "plt.plot(epochs, val_loss_values, \"b\", label=\"Validation loss\")\n",
    "plt.title(\"Training and validation loss\")\n",
    "plt.xlabel(\"Epochs\")\n",
    "plt.ylabel(\"Loss\")\n",
    "plt.legend()\n",
    "plt.show()\n"
   ]
  },
  {
   "cell_type": "code",
   "execution_count": 18,
   "id": "5d62d520",
   "metadata": {},
   "outputs": [
    {
     "data": {
      "image/png": "[encoded data removed]",
      "text/plain": [
       "<Figure size 640x480 with 1 Axes>"
      ]
     },
     "metadata": {},
     "output_type": "display_data"
    }
   ],
   "source": [
    "plt.clf() \n",
    "acc = history_dict[\"accuracy\"] \n",
    "val_acc = history_dict[\"val_accuracy\"] \n",
    "plt.plot(epochs, acc, \"bo\", label=\"Training acc\") \n",
    "plt.plot(epochs, val_acc, \"b\", label=\"Validation acc\") \n",
    "plt.title(\"Training and validation accuracy\") \n",
    "plt.xlabel(\"Epochs\") \n",
    "plt.ylabel(\"Accuracy\") \n",
    "plt.legend() \n",
    "plt.show()"
   ]
  },
  {
   "cell_type": "markdown",
   "id": "9e1e2a78",
   "metadata": {},
   "source": [
    "podemos ver um caso de overfitting, onde o modelo se desempenha bem nos dados de treinamento, mas não nos de teste."
   ]
  },
  {
   "cell_type": "markdown",
   "id": "25fdfdfe",
   "metadata": {},
   "source": [
    "aprende representações especificas aos dados de treinamento e não são generalizaveis fora do training set"
   ]
  },
  {
   "cell_type": "markdown",
   "id": "8760ba65",
   "metadata": {},
   "source": [
    "In this case, to prevent overfitting, you could stop training after four epochs. In general, you can use a range of techniques to mitigate overfitting, which we’ll cover in chapter 5."
   ]
  },
  {
   "cell_type": "markdown",
   "id": "a17ef044",
   "metadata": {},
   "source": [
    "Let’s train a new model from scratch for four epochs and then evaluate it on the test data.!"
   ]
  },
  {
   "cell_type": "markdown",
   "id": "c1dc8915",
   "metadata": {},
   "source": [
    "### 4.10 Retraining a model from scratch"
   ]
  },
  {
   "cell_type": "code",
   "execution_count": 19,
   "id": "b74710fc",
   "metadata": {},
   "outputs": [
    {
     "name": "stdout",
     "output_type": "stream",
     "text": [
      "Epoch 1/4\n",
      "\u001b[1m49/49\u001b[0m \u001b[32m━━━━━━━━━━━━━━━━━━━━\u001b[0m\u001b[37m\u001b[0m \u001b[1m1s\u001b[0m 5ms/step - accuracy: 0.8151 - loss: 0.4559\n",
      "Epoch 2/4\n",
      "\u001b[1m49/49\u001b[0m \u001b[32m━━━━━━━━━━━━━━━━━━━━\u001b[0m\u001b[37m\u001b[0m \u001b[1m0s\u001b[0m 5ms/step - accuracy: 0.9054 - loss: 0.2675\n",
      "Epoch 3/4\n",
      "\u001b[1m49/49\u001b[0m \u001b[32m━━━━━━━━━━━━━━━━━━━━\u001b[0m\u001b[37m\u001b[0m \u001b[1m0s\u001b[0m 6ms/step - accuracy: 0.9236 - loss: 0.2094\n",
      "Epoch 4/4\n",
      "\u001b[1m49/49\u001b[0m \u001b[32m━━━━━━━━━━━━━━━━━━━━\u001b[0m\u001b[37m\u001b[0m \u001b[1m0s\u001b[0m 5ms/step - accuracy: 0.9344 - loss: 0.1804\n",
      "\u001b[1m782/782\u001b[0m \u001b[32m━━━━━━━━━━━━━━━━━━━━\u001b[0m\u001b[37m\u001b[0m \u001b[1m1s\u001b[0m 1ms/step - accuracy: 0.8816 - loss: 0.2952\n"
     ]
    }
   ],
   "source": [
    "model = keras.Sequential([\n",
    "    layers.Dense(16, activation=\"relu\"),\n",
    "    layers.Dense(16, activation=\"relu\"),\n",
    "    layers.Dense(1,activation=\"sigmoid\")\n",
    "])\n",
    "model.compile(optimizer=\"rmsprop\",\n",
    "            loss=\"binary_crossentropy\",\n",
    "            metrics=[\"accuracy\"])\n",
    "model.fit(x_train,y_train,epochs=4,batch_size=512)\n",
    "results=model.evaluate(x_test, y_test)"
   ]
  },
  {
   "cell_type": "code",
   "execution_count": 20,
   "id": "9236df6b",
   "metadata": {},
   "outputs": [
    {
     "name": "stdout",
     "output_type": "stream",
     "text": [
      "[0.2952424883842468, 0.8816400170326233]\n"
     ]
    }
   ],
   "source": [
    "print(results)"
   ]
  },
  {
   "cell_type": "markdown",
   "id": "2704cade",
   "metadata": {},
   "source": [
    "0,30 -> test loss\n",
    "\n",
    "0,8795 -> test accuracy do modelo"
   ]
  },
  {
   "cell_type": "markdown",
   "id": "fc92bfc5",
   "metadata": {},
   "source": [
    "Using trained model to generate predictions on new data"
   ]
  },
  {
   "cell_type": "code",
   "execution_count": 21,
   "id": "9765fc30",
   "metadata": {},
   "outputs": [
    {
     "name": "stdout",
     "output_type": "stream",
     "text": [
      "\u001b[1m782/782\u001b[0m \u001b[32m━━━━━━━━━━━━━━━━━━━━\u001b[0m\u001b[37m\u001b[0m \u001b[1m1s\u001b[0m 999us/step\n"
     ]
    },
    {
     "data": {
      "text/plain": [
       "array([[0.15399562],\n",
       "       [0.9994336 ],\n",
       "       [0.58163375],\n",
       "       ...,\n",
       "       [0.10087764],\n",
       "       [0.05270956],\n",
       "       [0.546981  ]], shape=(25000, 1), dtype=float32)"
      ]
     },
     "execution_count": 21,
     "metadata": {},
     "output_type": "execute_result"
    }
   ],
   "source": [
    "model.predict(x_test)"
   ]
  }
 ],
 "metadata": {
  "kernelspec": {
   "display_name": "env",
   "language": "python",
   "name": "python3"
  },
  "language_info": {
   "codemirror_mode": {
    "name": "ipython",
    "version": 3
   },
   "file_extension": ".py",
   "mimetype": "text/x-python",
   "name": "python",
   "nbconvert_exporter": "python",
   "pygments_lexer": "ipython3",
   "version": "3.13.7"
  }
 },
 "nbformat": 4,
 "nbformat_minor": 5
}
