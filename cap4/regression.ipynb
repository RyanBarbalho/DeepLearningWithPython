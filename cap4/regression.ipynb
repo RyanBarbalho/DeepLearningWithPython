{
 "cells": [
  {
   "cell_type": "markdown",
   "id": "915fd74a",
   "metadata": {},
   "source": [
    "In this section, we’ll attempt to predict the median price of homes"
   ]
  },
  {
   "cell_type": "markdown",
   "id": "a24e3388",
   "metadata": {},
   "source": [
    "It has relatively few data points: only 506, split between 404 training samples and 102 test samples. And each feature in the input data (for example, the crime rate) has a different scale. For instance, some values are proportions, which take values between 0 and 1, others take values between 1 and 12, others between 0 and 100, and so on."
   ]
  },
  {
   "cell_type": "code",
   "execution_count": 1,
   "id": "a05181fb",
   "metadata": {},
   "outputs": [
    {
     "name": "stdout",
     "output_type": "stream",
     "text": [
      "Downloading data from https://storage.googleapis.com/tensorflow/tf-keras-datasets/boston_housing.npz\n",
      "\u001b[1m57026/57026\u001b[0m \u001b[32m━━━━━━━━━━━━━━━━━━━━\u001b[0m\u001b[37m\u001b[0m \u001b[1m0s\u001b[0m 3us/step\n"
     ]
    }
   ],
   "source": [
    "from keras.datasets import boston_housing\n",
    "\n",
    "(train_data, train_targets), (test_data, test_targets) = (\n",
    "\tboston_housing.load_data())"
   ]
  },
  {
   "cell_type": "markdown",
   "id": "02820e24",
   "metadata": {},
   "source": [
    "he prices are typically between $10,000 and $50,000"
   ]
  },
  {
   "cell_type": "markdown",
   "id": "1b8e3b63",
   "metadata": {},
   "source": [
    "It would be problematic to feed into a neural network values that all take wildly different ranges. The model might be able to automatically adapt to such heterogeneous data, but it would definitely make learning more difficult. A widespread best practice for dealing with such data is to do feature-wise normalization: for each feature in the input data (a column in the input data matrix), we subtract the mean of the feature and divide by the standard deviation, so that the feature is centered around 0 and has a unit standard deviation. This is easily done in NumPy"
   ]
  },
  {
   "cell_type": "code",
   "execution_count": 2,
   "id": "20da33f5",
   "metadata": {},
   "outputs": [],
   "source": [
    "# Normalize the data\n",
    "mean = train_data.mean(axis=0)\n",
    "train_data -= mean\n",
    "std = train_data.std(axis=0)\n",
    "train_data /= std\n",
    "test_data -= mean\n",
    "test_data /= std\n"
   ]
  },
  {
   "cell_type": "markdown",
   "id": "b303e3d7",
   "metadata": {},
   "source": [
    "Note that the quantities used for normalizing the test data are computed using the training data. You should never use any quantity computed on the test data in your workflow, even for something as simple as data normalization."
   ]
  },
  {
   "cell_type": "code",
   "execution_count": 4,
   "id": "d70350c9",
   "metadata": {},
   "outputs": [],
   "source": [
    "import keras\n",
    "from keras import layers\n",
    "\n",
    "def build_model():\n",
    "\tmodel = keras.Sequential([\n",
    "\t\tlayers.Dense(64, activation=\"relu\"),\n",
    "\t\tlayers.Dense(64, activation=\"relu\"),\n",
    "\t\tlayers.Dense(1)\n",
    "\t])\n",
    "\tmodel.compile(optimizer=\"rmsprop\", loss=\"mse\", metrics=[\"mae\"])\n",
    "\treturn model"
   ]
  },
  {
   "cell_type": "markdown",
   "id": "860381f0",
   "metadata": {},
   "source": [
    "The model ends with a single unit and no activation (it will be a linear layer). This is a typical setup for scalar regression (a regression where you’re trying to predict a single continuous value). Applying an activation function would constrain the range the output can take; for instance, if you applied a sigmoid activation function to the last layer, the model could only learn to predict values between 0 and 1. Here, because the last layer is purely linear, the model is free to learn to predict values in any range. Note that we compile the model with the mse loss function—mean squared error, the square of the difference between the predictions and the targets. This is a widely used loss function for regression problems. We’re also monitoring a new metric during training: mean absolute error (MAE). It’s the absolute value of the difference between the predictions and the targets. For instance, an MAE of 0.5 on this problem would mean your predictions are off by $500 on average."
   ]
  },
  {
   "cell_type": "markdown",
   "id": "b2c3f8bb",
   "metadata": {},
   "source": [
    "### usaremos K-fold cross validation"
   ]
  },
  {
   "cell_type": "markdown",
   "id": "8f11f001",
   "metadata": {},
   "source": [
    "It consists of splitting the available data into K partitions (typically K = 4 or 5), instantiating K identical models, and training each one on K – 1 partitions while evaluating on the remaining partition. The validation score for the model used is then the average of the K validation scores obtained. In terms of code, this is straightforward."
   ]
  },
  {
   "cell_type": "code",
   "execution_count": 8,
   "id": "12aa1f05",
   "metadata": {},
   "outputs": [
    {
     "name": "stdout",
     "output_type": "stream",
     "text": [
      "Processing fold #0\n",
      "Processing fold #1\n",
      "Processing fold #2\n",
      "Processing fold #3\n"
     ]
    }
   ],
   "source": [
    "import numpy as np\n",
    "\n",
    "k = 4\n",
    "num_val_samples = len(train_data) // k\n",
    "num_epochs = 100\n",
    "all_scores = []\n",
    "\n",
    "for i in range(k):\n",
    "\tprint(f\"Processing fold #{i}\")\n",
    "\tval_data = train_data[i * num_val_samples: (i + 1) * num_val_samples] # validação a partir da i-ésima partição\n",
    "\tval_targets = train_targets[i * num_val_samples: (i + 1) * num_val_samples]\n",
    "\n",
    "\tpartial_train_data = np.concatenate(\n",
    "\t\t[train_data[:i * num_val_samples],\n",
    "\t\ttrain_data[(i + 1) * num_val_samples:]\n",
    "\t\t], axis=0\n",
    "\t)\n",
    "\tpartial_train_targets = np.concatenate(\n",
    "\t\t[train_targets[:i * num_val_samples],\n",
    "\t\ttrain_targets[(i + 1) * num_val_samples:]],\n",
    "\t\taxis=0\n",
    "\t)\n",
    "\n",
    "\tmodel = build_model()\n",
    "\tmodel.fit(partial_train_data, partial_train_targets, epochs=num_epochs, batch_size=16, verbose=0)\n",
    "\tval_mse, val_mae = model.evaluate(val_data, val_targets, verbose=0)\n",
    "\tall_scores.append(val_mae)\n",
    "\n",
    "average_mae_history = sum(all_scores) / len(all_scores)"
   ]
  },
  {
   "cell_type": "code",
   "execution_count": 9,
   "id": "b1e18982",
   "metadata": {},
   "outputs": [
    {
     "data": {
      "text/plain": [
       "[1.876124620437622, 2.415435791015625, 2.546570062637329, 2.509714365005493]"
      ]
     },
     "execution_count": 9,
     "metadata": {},
     "output_type": "execute_result"
    }
   ],
   "source": [
    "all_scores"
   ]
  },
  {
   "cell_type": "code",
   "execution_count": 11,
   "id": "5aa68121",
   "metadata": {},
   "outputs": [
    {
     "data": {
      "text/plain": [
       "np.float64(2.3369612097740173)"
      ]
     },
     "execution_count": 11,
     "metadata": {},
     "output_type": "execute_result"
    }
   ],
   "source": [
    "np.mean(all_scores)"
   ]
  },
  {
   "cell_type": "markdown",
   "id": "a800c700",
   "metadata": {},
   "source": [
    "this case, we’re off by $2,600 on average, which is significant considering that the prices range from $10,000 to $50,000. Let’s try training the model a bit longer: 500 epochs. To keep a record of how well the model does at each epoch, we’ll modify the training loop to save the per-epoch validation score log for each fold"
   ]
  },
  {
   "cell_type": "code",
   "execution_count": 12,
   "id": "419ecb7d",
   "metadata": {},
   "outputs": [
    {
     "name": "stdout",
     "output_type": "stream",
     "text": [
      "Processing fold #0\n",
      "Processing fold #1\n",
      "Processing fold #2\n",
      "Processing fold #3\n"
     ]
    }
   ],
   "source": [
    "import numpy as np\n",
    "\n",
    "num_epochs = 500\n",
    "all_mae_histories = []\n",
    "\n",
    "for i in range(k):\n",
    "\tprint(f\"Processing fold #{i}\")\n",
    "\tval_data = train_data[i * num_val_samples: (i + 1) * num_val_samples] # validação a partir da i-ésima partição\n",
    "\tval_targets = train_targets[i * num_val_samples: (i + 1) * num_val_samples]\n",
    "\n",
    "\tpartial_train_data = np.concatenate(\n",
    "\t\t[train_data[:i * num_val_samples],\n",
    "\t\ttrain_data[(i + 1) * num_val_samples:]\n",
    "\t\t], axis=0\n",
    "\t)\n",
    "\tpartial_train_targets = np.concatenate(\n",
    "\t\t[train_targets[:i * num_val_samples],\n",
    "\t\ttrain_targets[(i + 1) * num_val_samples:]],\n",
    "\t\taxis=0\n",
    "\t)\n",
    "\n",
    "\tmodel = build_model()\n",
    "\thistory = model.fit(partial_train_data, partial_train_targets,\n",
    "\t\t\t\tvalidation_data=(val_data, val_targets),\n",
    "\t \t\t\tepochs=num_epochs, batch_size=16, verbose=0)\n",
    "\tmae_history = history.history[\"val_mae\"]\n",
    "\tall_mae_histories.append(mae_history)"
   ]
  },
  {
   "cell_type": "markdown",
   "id": "462d3431",
   "metadata": {},
   "source": [
    "We can compuite the average of the per-epoch MAE scores for all folds"
   ]
  },
  {
   "cell_type": "code",
   "execution_count": 13,
   "id": "c8c0f148",
   "metadata": {},
   "outputs": [],
   "source": [
    "average_mae_history = [\n",
    "\tnp.mean([x[i] for x in all_mae_histories]) for i in range(num_epochs)\n",
    "]"
   ]
  },
  {
   "cell_type": "code",
   "execution_count": 14,
   "id": "19a9f8f2",
   "metadata": {},
   "outputs": [
    {
     "data": {
      "image/png": "[encoded data removed]",
      "text/plain": [
       "<Figure size 640x480 with 1 Axes>"
      ]
     },
     "metadata": {},
     "output_type": "display_data"
    }
   ],
   "source": [
    "import matplotlib.pyplot as plt\n",
    "\n",
    "plt.plot(range(1, len(average_mae_history) + 1), average_mae_history)\n",
    "plt.xlabel(\"Epochs\")\n",
    "plt.ylabel(\"Validation MAE\")\n",
    "plt.show()\n",
    "\n",
    "\n"
   ]
  },
  {
   "cell_type": "code",
   "execution_count": 15,
   "id": "5c0cb6db",
   "metadata": {},
   "outputs": [
    {
     "data": {
      "image/png": "[encoded data removed]",
      "text/plain": [
       "<Figure size 640x480 with 1 Axes>"
      ]
     },
     "metadata": {},
     "output_type": "display_data"
    }
   ],
   "source": [
    "truncated_mae_history = average_mae_history[10:]\n",
    "plt.plot(range(1, len(truncated_mae_history) + 1), truncated_mae_history)\n",
    "plt.xlabel(\"Epochs\")\n",
    "plt.ylabel(\"Validation MAE\")\n",
    "plt.show()\n",
    "\n"
   ]
  },
  {
   "cell_type": "markdown",
   "id": "22053fa3",
   "metadata": {},
   "source": [
    "As you can see in figure 4.10, validation MAE stops improving significantly after 120–140 epochs (this number includes the 10 epochs we omitted). Past that point, we start overfitting. \n",
    "\n",
    "Once you’re finished tuning other parameters of the model (in addition to the number of epochs, you could also adjust the size of the intermediate layers), you can train a final production model on all of the training data, with the best parameters, and then look at its performance on the test data."
   ]
  },
  {
   "cell_type": "code",
   "execution_count": 16,
   "id": "359d5134",
   "metadata": {},
   "outputs": [
    {
     "name": "stdout",
     "output_type": "stream",
     "text": [
      "\u001b[1m4/4\u001b[0m \u001b[32m━━━━━━━━━━━━━━━━━━━━\u001b[0m\u001b[37m\u001b[0m \u001b[1m0s\u001b[0m 8ms/step - loss: 15.3092 - mae: 2.4209\n"
     ]
    },
    {
     "data": {
      "text/plain": [
       "2.4208710193634033"
      ]
     },
     "execution_count": 16,
     "metadata": {},
     "output_type": "execute_result"
    }
   ],
   "source": [
    "model = build_model()\n",
    "model.fit(train_data,train_targets, epochs = 130, batch_size = 16, verbose=0)\n",
    "test_mse_score, test_mae_score = model.evaluate(test_data, test_targets)\n",
    "test_mae_score"
   ]
  },
  {
   "cell_type": "markdown",
   "id": "813d34e1",
   "metadata": {},
   "source": [
    "When calling predict() on our binary classification model, we retrieved a scalar score between 0 and 1 for each input sample. With our multiclass classification model, we retrieved a probability distribution over all classes for each sample. Now, with this scalar regression model, predict() returns the model’s guess for the sample’s price in thousands of dollars:"
   ]
  },
  {
   "cell_type": "code",
   "execution_count": 21,
   "id": "a4773c62",
   "metadata": {},
   "outputs": [
    {
     "name": "stdout",
     "output_type": "stream",
     "text": [
      "\u001b[1m4/4\u001b[0m \u001b[32m━━━━━━━━━━━━━━━━━━━━\u001b[0m\u001b[37m\u001b[0m \u001b[1m0s\u001b[0m 5ms/step \n"
     ]
    },
    {
     "data": {
      "text/plain": [
       "array([8.747934], dtype=float32)"
      ]
     },
     "execution_count": 21,
     "metadata": {},
     "output_type": "execute_result"
    }
   ],
   "source": [
    "predictions = model.predict(test_data)\n",
    "predictions[0]"
   ]
  },
  {
   "cell_type": "markdown",
   "id": "1bd3d3c2",
   "metadata": {},
   "source": [
    "### Wrapping up\n",
    "\n",
    "- Regression is done using different loss functions than we used for classification. Mean squared error (MSE) is a loss function commonly used for regression\n",
    "- Similarly, evaluation metrics to be used for regression differ from those used for classification; naturally, the concept of accuracy doesn’t apply for regression. A common regression metric is mean absolute error (MAE).\n",
    "- When features in the input data have values in different ranges, each feature should be scaled independently as a preprocessing step.\n",
    "- When there is little data available, using K-fold validation is a great way to reliably evaluate a model.\n",
    "- When little training data is available, it’s preferable to use a small model with few intermediate layers (typically only one or two), in order to avoid severe overfitting."
   ]
  }
 ],
 "metadata": {
  "kernelspec": {
   "display_name": "env",
   "language": "python",
   "name": "python3"
  },
  "language_info": {
   "codemirror_mode": {
    "name": "ipython",
    "version": 3
   },
   "file_extension": ".py",
   "mimetype": "text/x-python",
   "name": "python",
   "nbconvert_exporter": "python",
   "pygments_lexer": "ipython3",
   "version": "3.12.3"
  }
 },
 "nbformat": 4,
 "nbformat_minor": 5
}
