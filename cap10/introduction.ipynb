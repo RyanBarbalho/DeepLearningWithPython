{
 "cells": [
  {
   "cell_type": "markdown",
   "id": "f0e30891",
   "metadata": {},
   "source": [
    "# cap 10 - Deep learning  for timeseries"
   ]
  },
  {
   "cell_type": "markdown",
   "id": "99942b26",
   "metadata": {},
   "source": [
    "## This chapter covers:\n",
    "\n",
    "- Examples of machine learning tasks that involve timeseries data\n",
    "- Understanding recurrent neural networks (RNNs)\n",
    "- Applying RNNs to a temperature-forecasting example\n",
    "- Advanced RNN usage patterns"
   ]
  },
  {
   "cell_type": "markdown",
   "id": "1b24903f",
   "metadata": {},
   "source": [
    "A timeseries can be any data obtained via measurements at regular intervals, like the daily price of a stock, the hourly electricity consumption of a city, or the weekly sales of a store."
   ]
  },
  {
   "cell_type": "markdown",
   "id": "ca6ef3f7",
   "metadata": {},
   "source": [
    "the most common timeseries-related task is forecasting: predicting what will happen next in a series."
   ]
  },
  {
   "cell_type": "markdown",
   "id": "eb004677",
   "metadata": {},
   "source": [
    "other things you can do with timeseries:\n",
    "- Classification—Assign one or more categorical labels to a timeseries. For instance, given the timeseries of the activity of a visitor on a website, classify whether the visitor is a bot or a human.\n",
    "- Event detection—Identify the occurrence of a specific expected event within a continuous data stream. A particularly useful application is “hotword detection,” where a model monitors an audio stream and detects utterances like “Ok Google” or “Hey Alexa.”\n",
    "- Anomaly detection—Detect anything unusual happening within a continuous datastream. Unusual activity on your corporate network? Might be an attacker. Unusual readings on a manufacturing line? Time for a human to go take a look. Anomaly detection is typically done via unsupervised learning, because you often don’t know what kind of anomaly you’re looking for, so you can’t train on specific anomaly examples."
   ]
  },
  {
   "cell_type": "markdown",
   "id": "c21421f0",
   "metadata": {},
   "source": [
    "In the context of deep learning, Fourier analysis (or the related Mel-frequency analysis) and other domain-specific representations can be useful as a form of feature engineering, a way to prepare data before training a model on it, to make the job of the model easier. However, we won’t cover these techniques in these pages; we will instead focus on the modeling part."
   ]
  },
  {
   "cell_type": "markdown",
   "id": "978fa4a3",
   "metadata": {},
   "source": [
    "In this chapter, you’ll learn about recurrent neural networks (RNNs) and how to apply them to timeseries forecasting."
   ]
  },
  {
   "cell_type": "markdown",
   "id": "5c20b1c1",
   "metadata": {},
   "source": [
    "## 10.2 A temperature-forecasting example"
   ]
  },
  {
   "cell_type": "markdown",
   "id": "2ed7dd11",
   "metadata": {},
   "source": [
    "predicting the temperature 24 hours in the future, given a timeseries of hourly measurements of quantities such as atmospheric pressure and humidity, recorded over the recent past by a set of sensors on the roof of a building."
   ]
  },
  {
   "cell_type": "markdown",
   "id": "16de3d3f",
   "metadata": {},
   "source": [
    "We’ll work with a weather timeseries dataset recorded at the weather station at the Max Planck Institute for Biogeochemistry in Jena, Germany.1 In this dataset, 14 different quantities (such as temperature, pressure, humidity, wind direction, and so on) were recorded every 10 minutes over several years. The original data goes back to 2003, but the subset of the data we’ll download is limited to 2009–2016."
   ]
  },
  {
   "cell_type": "markdown",
   "id": "bd376058",
   "metadata": {},
   "source": [
    "Listing 10.1 Inspecting the data of the Jena weather dataset"
   ]
  },
  {
   "cell_type": "code",
   "execution_count": 1,
   "id": "fa609f10",
   "metadata": {},
   "outputs": [
    {
     "name": "stderr",
     "output_type": "stream",
     "text": [
      "'wget' n�o � reconhecido como um comando interno\n",
      "ou externo, um programa oper�vel ou um arquivo em lotes.\n",
      "'unzip' n�o � reconhecido como um comando interno\n",
      "ou externo, um programa oper�vel ou um arquivo em lotes.\n"
     ]
    }
   ],
   "source": [
    "!wget https://s3.amazonaws.com/keras-datasets/jena_climate_2009_2016.csv.zip\n",
    "!unzip jena_climate_2009_2016.csv.zip"
   ]
  },
  {
   "cell_type": "code",
   "execution_count": 2,
   "id": "7875afc5",
   "metadata": {},
   "outputs": [
    {
     "name": "stdout",
     "output_type": "stream",
     "text": [
      "['\"Date Time\"', '\"p (mbar)\"', '\"T (degC)\"', '\"Tpot (K)\"', '\"Tdew (degC)\"', '\"rh (%)\"', '\"VPmax (mbar)\"', '\"VPact (mbar)\"', '\"VPdef (mbar)\"', '\"sh (g/kg)\"', '\"H2OC (mmol/mol)\"', '\"rho (g/m**3)\"', '\"wv (m/s)\"', '\"max. wv (m/s)\"', '\"wd (deg)\"']\n",
      "420451\n"
     ]
    }
   ],
   "source": [
    "import os\n",
    "fname = os.path.join(\"jena_climate_2009_2016.csv\")\n",
    "\n",
    "with open(fname) as f:\n",
    "\tdata = f.read()\n",
    "\n",
    "lines = data.split(\"\\n\")\n",
    "header = lines[0].split(\",\")\n",
    "lines = lines[1:]\n",
    "\n",
    "print(header)\n",
    "print(len(lines))\n"
   ]
  },
  {
   "cell_type": "markdown",
   "id": "4521e035",
   "metadata": {},
   "source": [
    "Now, convert all 420,551 lines of data into NumPy arrays: one array for the temperature (in degrees Celsius), and another one for the rest of the data—the features we will use to predict future temperatures. Note that we discard the “Date Time” column"
   ]
  },
  {
   "cell_type": "code",
   "execution_count": 3,
   "id": "3e3e65fe",
   "metadata": {},
   "outputs": [],
   "source": [
    "import numpy as np\n",
    "\n",
    "temperature = np.zeros((len(lines),))\n",
    "raw_data = np.zeros((len(lines), len(header) - 1))\n",
    "\n",
    "for i, line in enumerate(lines):\n",
    "\tvalues = [float(x) for x in line.split(\",\")[1:]]\n",
    "\t#We store column 1 in the  “temperature” array.\n",
    "\ttemperature[i] = values[1]\n",
    "\t#We store all columns (including the  temperature) in the “raw_data” array.\n",
    "\traw_data[i, :] = values[:]"
   ]
  },
  {
   "cell_type": "markdown",
   "id": "a5cca756",
   "metadata": {},
   "source": [
    "over time. On this plot, you can clearly see the yearly periodicity of temperature"
   ]
  },
  {
   "cell_type": "code",
   "execution_count": 4,
   "id": "27a61bcd",
   "metadata": {},
   "outputs": [
    {
     "data": {
      "text/plain": [
       "[<matplotlib.lines.Line2D at 0x1c1aa2a2390>]"
      ]
     },
     "execution_count": 4,
     "metadata": {},
     "output_type": "execute_result"
    },
    {
     "data": {
      "image/png": "[encoded data removed]",
      "text/plain": [
       "<Figure size 640x480 with 1 Axes>"
      ]
     },
     "metadata": {},
     "output_type": "display_data"
    }
   ],
   "source": [
    "from matplotlib import pyplot as plt\n",
    "plt.plot(range(len(temperature)), temperature)"
   ]
  },
  {
   "cell_type": "markdown",
   "id": "0b999957",
   "metadata": {},
   "source": [
    "shows a more narrow plot of the first 10 days of temperature data. Because the data is recorded every 10 minutes, you get 24 × 6 = 144 data points per day."
   ]
  },
  {
   "cell_type": "markdown",
   "id": "54713dad",
   "metadata": {},
   "source": [
    "## Temperature over the first 10 days of the dataset (oC)"
   ]
  },
  {
   "cell_type": "code",
   "execution_count": 5,
   "id": "c9cef3fe",
   "metadata": {},
   "outputs": [
    {
     "data": {
      "text/plain": [
       "[<matplotlib.lines.Line2D at 0x1c1aa337110>]"
      ]
     },
     "execution_count": 5,
     "metadata": {},
     "output_type": "execute_result"
    },
    {
     "data": {
      "image/png": "[encoded data removed]",
      "text/plain": [
       "<Figure size 640x480 with 1 Axes>"
      ]
     },
     "metadata": {},
     "output_type": "display_data"
    }
   ],
   "source": [
    "plt.plot(range(1440), temperature[:1440])"
   ]
  },
  {
   "cell_type": "markdown",
   "id": "84dae266",
   "metadata": {},
   "source": [
    "With our dataset, if you were trying to predict average temperature for the next month given a few months of past data, the problem would be easy, due to the reliable yearscale periodicity of the data. But looking at the data over a scale of days, the temperature looks a lot more chaotic. Is this timeseries predictable at a daily scale? Let’s find out."
   ]
  },
  {
   "cell_type": "markdown",
   "id": "8cbce95b",
   "metadata": {},
   "source": [
    "In all our experiments, we’ll use the first 50% of the data for training, the following 25% for validation, and the last 25% for testing. When working with timeseries data, it’s important to use validation and test data that is more recent than the training data, because you’re trying to predict the future given the past, not the reverse, and your validation/test splits should reflect that. Some problems happen to be considerably simpler if you reverse the time axis!"
   ]
  },
  {
   "cell_type": "code",
   "execution_count": 6,
   "id": "dd54beaa",
   "metadata": {},
   "outputs": [
    {
     "name": "stdout",
     "output_type": "stream",
     "text": [
      "num_train_samples: 210225\n",
      "num_val_samples: 105112\n",
      "num_test_samples: 105114\n"
     ]
    }
   ],
   "source": [
    "num_train_samples = int(0.5 * len(raw_data))\n",
    "num_val_samples = int(0.25 * len(raw_data))\n",
    "num_test_samples = len(raw_data) - num_train_samples - num_val_samples\n",
    "print(\"num_train_samples:\", num_train_samples)\n",
    "print(\"num_val_samples:\", num_val_samples)\n",
    "print(\"num_test_samples:\", num_test_samples)"
   ]
  },
  {
   "cell_type": "markdown",
   "id": "ea915129",
   "metadata": {},
   "source": [
    "## 10.2.1 Preparing the data"
   ]
  },
  {
   "cell_type": "markdown",
   "id": "8eda8ece",
   "metadata": {},
   "source": [
    "### The exact formulation of the problem will be as follows: given data covering the previous five days and sampled once per hour, can we predict the temperature in 24 hours?"
   ]
  },
  {
   "cell_type": "markdown",
   "id": "f6b8c617",
   "metadata": {},
   "source": [
    "We’ll normalize each timeseries independently so that they all take small values on a similar scale. We’re going to use the first 210,225 timesteps as training data, so we’ll compute the mean and standard deviation only on this fraction of the data."
   ]
  },
  {
   "cell_type": "code",
   "execution_count": 7,
   "id": "85c12f32",
   "metadata": {},
   "outputs": [],
   "source": [
    "mean = raw_data[:num_train_samples].mean(axis=0)\n",
    "raw_data -= mean\n",
    "std = raw_data[:num_train_samples].std(axis=0)\n",
    "raw_data /= std"
   ]
  },
  {
   "cell_type": "markdown",
   "id": "4d63e6c5",
   "metadata": {},
   "source": [
    "#### Listing 10.7 Instantiating datasets for training, validation, and testing"
   ]
  },
  {
   "cell_type": "code",
   "execution_count": 8,
   "id": "e21ca31f",
   "metadata": {},
   "outputs": [],
   "source": [
    "import keras\n",
    "sampling_rate = 6\n",
    "sequence_length = 120\n",
    "#The target for a sequence will be the temperature 24 hours after the end of the sequence\n",
    "delay = sampling_rate * (sequence_length + 24 - 1)\n",
    "batch_size = 256\n",
    "\n",
    "train_dataset = keras.utils.timeseries_dataset_from_array(\n",
    "    raw_data[:-delay],\n",
    "    targets=temperature[delay:],\n",
    "    sampling_rate=sampling_rate,\n",
    "\tsequence_length=sequence_length,\n",
    "\tshuffle=True,\n",
    "\tbatch_size=batch_size,\n",
    "\tstart_index=0,\n",
    "\tend_index=num_train_samples)\n",
    "\n",
    "val_dataset = keras.utils.timeseries_dataset_from_array(\n",
    "    raw_data[:-delay],\n",
    "    targets=temperature[delay:],\n",
    "    sampling_rate=sampling_rate,\n",
    "\tsequence_length=sequence_length,\n",
    "\tshuffle=True,\n",
    "\tbatch_size=batch_size,\n",
    "\tstart_index=num_train_samples,\n",
    "\tend_index=num_train_samples + num_val_samples\n",
    ")\n",
    "\n",
    "test_dataset = keras.utils.timeseries_dataset_from_array(\n",
    "    raw_data[:-delay],\n",
    "    targets=temperature[delay:],\n",
    "    sampling_rate=sampling_rate,\n",
    "\tsequence_length=sequence_length,\n",
    "\tshuffle=True,\n",
    "\tbatch_size=batch_size,\n",
    "\tstart_index=num_train_samples + num_val_samples,\n",
    ")"
   ]
  },
  {
   "cell_type": "markdown",
   "id": "95f49c5e",
   "metadata": {},
   "source": [
    "Each dataset yields a tuple (samples, targets), where samples is a batch of 256 samples, each containing 120 consecutive hours of input data, and targets is the corresponding array of 256 target temperatures."
   ]
  },
  {
   "cell_type": "markdown",
   "id": "f22b12f5",
   "metadata": {},
   "source": [
    "Note that the samples are randomly shuffled, so two consecutive sequences in a batch (like samples[0] and samples[1]) aren’t necessarily temporally close."
   ]
  },
  {
   "cell_type": "code",
   "execution_count": 9,
   "id": "5b0bfae1",
   "metadata": {},
   "outputs": [
    {
     "name": "stdout",
     "output_type": "stream",
     "text": [
      "samples shape: (256, 120, 14)\n",
      "targets shape: (256,)\n"
     ]
    }
   ],
   "source": [
    "for samples, targets in train_dataset:\n",
    "\tprint(\"samples shape:\", samples.shape)\n",
    "\tprint(\"targets shape:\", targets.shape)\n",
    "\tbreak\n"
   ]
  },
  {
   "cell_type": "markdown",
   "id": "fbd02f1d",
   "metadata": {},
   "source": [
    "Listing 10.9 Computing the common-sense baseline MAE"
   ]
  },
  {
   "cell_type": "markdown",
   "id": "b73237dc",
   "metadata": {},
   "source": [
    "(common sense, non-machine learning baseline)"
   ]
  },
  {
   "cell_type": "code",
   "execution_count": 10,
   "id": "f052d14f",
   "metadata": {},
   "outputs": [
    {
     "name": "stdout",
     "output_type": "stream",
     "text": [
      "Validation MAE: 2.44\n",
      "Test MAE: 2.62\n"
     ]
    }
   ],
   "source": [
    "def evaluate_naive_method(dataset):\n",
    "\ttotal_abs_err = 0\n",
    "\tsamples_seen = 0\n",
    "\tfor samples, targets in dataset:\n",
    "\t\tpreds = samples[:, -1, 1] * std[1] + mean[1]\n",
    "\t\ttotal_abs_err += np.sum(np.abs(preds - targets))\n",
    "\t\tsamples_seen += samples.shape[0]\n",
    "\treturn total_abs_err / samples_seen\n",
    "\n",
    "print(f\"Validation MAE: {evaluate_naive_method(val_dataset):.2f}\")\n",
    "print(f\"Test MAE: {evaluate_naive_method(test_dataset):.2f}\")"
   ]
  },
  {
   "cell_type": "markdown",
   "id": "8fab3d54",
   "metadata": {},
   "source": [
    "This common-sense baseline achieves a validation MAE of 2.44 degrees Celsius and a test MAE of 2.62 degrees Celsius. So if you always assume that the temperature 24 hours in the future will be the same as it is now, you will be off by two and a half degrees on average."
   ]
  },
  {
   "cell_type": "markdown",
   "id": "f84be221",
   "metadata": {},
   "source": [
    "### 10.2.3 Let’s try a basic machine learning model"
   ]
  },
  {
   "cell_type": "markdown",
   "id": "08b345c8",
   "metadata": {},
   "source": [
    "The following listing shows a fully connected model that starts by flattening the data and then runs it through two Dense layers. Note the lack of an activation function on the last Dense layer, which is typical for a regression problem. We use mean squared error (MSE) as the loss, rather than MAE, because unlike MAE, it’s smooth around zero, which is a useful property for gradient descent. We will monitor MAE by adding it as a metric in compile()."
   ]
  },
  {
   "cell_type": "code",
   "execution_count": 11,
   "id": "a8d51439",
   "metadata": {},
   "outputs": [
    {
     "name": "stdout",
     "output_type": "stream",
     "text": [
      "Epoch 1/10\n",
      "\u001b[1m819/819\u001b[0m \u001b[32m━━━━━━━━━━━━━━━━━━━━\u001b[0m\u001b[37m\u001b[0m \u001b[1m10s\u001b[0m 11ms/step - loss: 15.6764 - mae: 3.0440 - val_loss: 11.4671 - val_mae: 2.6743\n",
      "Epoch 2/10\n",
      "\u001b[1m819/819\u001b[0m \u001b[32m━━━━━━━━━━━━━━━━━━━━\u001b[0m\u001b[37m\u001b[0m \u001b[1m10s\u001b[0m 12ms/step - loss: 10.1089 - mae: 2.5037 - val_loss: 12.1150 - val_mae: 2.7628\n",
      "Epoch 3/10\n",
      "\u001b[1m819/819\u001b[0m \u001b[32m━━━━━━━━━━━━━━━━━━━━\u001b[0m\u001b[37m\u001b[0m \u001b[1m11s\u001b[0m 13ms/step - loss: 9.2802 - mae: 2.3991 - val_loss: 11.3448 - val_mae: 2.6689\n",
      "Epoch 4/10\n",
      "\u001b[1m819/819\u001b[0m \u001b[32m━━━━━━━━━━━━━━━━━━━━\u001b[0m\u001b[37m\u001b[0m \u001b[1m10s\u001b[0m 12ms/step - loss: 8.7504 - mae: 2.3280 - val_loss: 11.0404 - val_mae: 2.6349\n",
      "Epoch 5/10\n",
      "\u001b[1m819/819\u001b[0m \u001b[32m━━━━━━━━━━━━━━━━━━━━\u001b[0m\u001b[37m\u001b[0m \u001b[1m9s\u001b[0m 11ms/step - loss: 8.3546 - mae: 2.2748 - val_loss: 11.7806 - val_mae: 2.7260\n",
      "Epoch 6/10\n",
      "\u001b[1m819/819\u001b[0m \u001b[32m━━━━━━━━━━━━━━━━━━━━\u001b[0m\u001b[37m\u001b[0m \u001b[1m11s\u001b[0m 13ms/step - loss: 8.0795 - mae: 2.2341 - val_loss: 10.4256 - val_mae: 2.5552\n",
      "Epoch 7/10\n",
      "\u001b[1m819/819\u001b[0m \u001b[32m━━━━━━━━━━━━━━━━━━━━\u001b[0m\u001b[37m\u001b[0m \u001b[1m13s\u001b[0m 16ms/step - loss: 7.8625 - mae: 2.2059 - val_loss: 10.9698 - val_mae: 2.6118\n",
      "Epoch 8/10\n",
      "\u001b[1m819/819\u001b[0m \u001b[32m━━━━━━━━━━━━━━━━━━━━\u001b[0m\u001b[37m\u001b[0m \u001b[1m10s\u001b[0m 12ms/step - loss: 7.6449 - mae: 2.1771 - val_loss: 13.9553 - val_mae: 2.9721\n",
      "Epoch 9/10\n",
      "\u001b[1m819/819\u001b[0m \u001b[32m━━━━━━━━━━━━━━━━━━━━\u001b[0m\u001b[37m\u001b[0m \u001b[1m13s\u001b[0m 16ms/step - loss: 7.4854 - mae: 2.1527 - val_loss: 10.7346 - val_mae: 2.5914\n",
      "Epoch 10/10\n",
      "\u001b[1m819/819\u001b[0m \u001b[32m━━━━━━━━━━━━━━━━━━━━\u001b[0m\u001b[37m\u001b[0m \u001b[1m9s\u001b[0m 11ms/step - loss: 7.3543 - mae: 2.1358 - val_loss: 12.2586 - val_mae: 2.7720\n",
      "\u001b[1m405/405\u001b[0m \u001b[32m━━━━━━━━━━━━━━━━━━━━\u001b[0m\u001b[37m\u001b[0m \u001b[1m3s\u001b[0m 7ms/step - loss: 11.7291 - mae: 2.6978\n",
      "Test MAE: 2.70\n"
     ]
    }
   ],
   "source": [
    "from keras import layers\n",
    "\n",
    "inputs = keras.Input(shape=(sequence_length, raw_data.shape[-1]))\n",
    "x = layers.Flatten()(inputs)\n",
    "x = layers.Dense(16, activation=\"relu\")(x)\n",
    "outputs = layers.Dense(1)(x)\n",
    "model = keras.Model(inputs, outputs)\n",
    "\n",
    "callbacks = [\n",
    "\tkeras.callbacks.ModelCheckpoint(\"jena_dense.keras\",\n",
    "\t\t\t\t\t\t\t\t\tsave_best_only=True)\n",
    "]\n",
    "model.compile(optimizer=\"rmsprop\", loss=\"mse\", metrics=[\"mae\"])\n",
    "history = model.fit(train_dataset,\n",
    "\tepochs=10,\n",
    "\tvalidation_data=val_dataset,\n",
    "\tcallbacks=callbacks\n",
    ")\n",
    "\n",
    "model = keras.models.load_model(\"jena_dense.keras\")\n",
    "print(\"Test MAE: %.2f\" % model.evaluate(test_dataset)[1])\n"
   ]
  },
  {
   "cell_type": "markdown",
   "id": "c9af397b",
   "metadata": {},
   "source": [
    "plotting the results:"
   ]
  },
  {
   "cell_type": "code",
   "execution_count": 12,
   "id": "bc425f8f",
   "metadata": {},
   "outputs": [
    {
     "data": {
      "image/png": "[encoded data removed]",
      "text/plain": [
       "<Figure size 640x480 with 1 Axes>"
      ]
     },
     "metadata": {},
     "output_type": "display_data"
    }
   ],
   "source": [
    "import matplotlib.pyplot as plt\n",
    "\n",
    "loss = history.history[\"mae\"]\n",
    "val_loss = history.history[\"val_mae\"]\n",
    "epochs = range(1, len(loss) + 1)\n",
    "plt.figure()\n",
    "plt.plot(epochs, loss, \"bo\", label=\"Training MAE\")\n",
    "plt.plot(epochs, val_loss, \"b\", label=\"Validation MAE\")\n",
    "plt.title(\"Training and validation MAE\")\n",
    "plt.legend()\n",
    "plt.show()\n",
    "\n"
   ]
  },
  {
   "cell_type": "markdown",
   "id": "1512a2ac",
   "metadata": {},
   "source": [
    "### 10.2.4 Let’s try a 1D convolutional model"
   ]
  },
  {
   "cell_type": "markdown",
   "id": "ff08661d",
   "metadata": {},
   "source": [
    "You can thus build 1D convnets, strictly analogous to 2D convnets. They’re a great fit for any sequence data that follows the translation invariance assumption (meaning that if you slide a window over the sequence, the content of the window should follow the same properties independently of the location of the window)."
   ]
  },
  {
   "cell_type": "markdown",
   "id": "26241857",
   "metadata": {},
   "source": [
    "Let’s try one on our temperature-forecasting problem. We’ll pick an initial window length of 24, so that we look at 24 hours of data at a time (one cycle). As we downsample the sequences (via MaxPooling1D layers), we’ll reduce the window size accordingly:"
   ]
  },
  {
   "cell_type": "code",
   "execution_count": 13,
   "id": "43649307",
   "metadata": {},
   "outputs": [
    {
     "name": "stdout",
     "output_type": "stream",
     "text": [
      "Epoch 1/10\n",
      "\u001b[1m819/819\u001b[0m \u001b[32m━━━━━━━━━━━━━━━━━━━━\u001b[0m\u001b[37m\u001b[0m \u001b[1m21s\u001b[0m 25ms/step - loss: 90.0821 - mae: 7.6651 - val_loss: 66.8004 - val_mae: 6.7181\n",
      "Epoch 2/10\n",
      "\u001b[1m819/819\u001b[0m \u001b[32m━━━━━━━━━━━━━━━━━━━━\u001b[0m\u001b[37m\u001b[0m \u001b[1m23s\u001b[0m 27ms/step - loss: 76.6779 - mae: 7.0939 - val_loss: 65.5875 - val_mae: 6.6642\n",
      "Epoch 3/10\n",
      "\u001b[1m819/819\u001b[0m \u001b[32m━━━━━━━━━━━━━━━━━━━━\u001b[0m\u001b[37m\u001b[0m \u001b[1m22s\u001b[0m 26ms/step - loss: 76.3643 - mae: 7.0804 - val_loss: 65.8937 - val_mae: 6.6809\n",
      "Epoch 4/10\n",
      "\u001b[1m819/819\u001b[0m \u001b[32m━━━━━━━━━━━━━━━━━━━━\u001b[0m\u001b[37m\u001b[0m \u001b[1m20s\u001b[0m 25ms/step - loss: 76.2997 - mae: 7.0774 - val_loss: 65.2630 - val_mae: 6.6488\n",
      "Epoch 5/10\n",
      "\u001b[1m819/819\u001b[0m \u001b[32m━━━━━━━━━━━━━━━━━━━━\u001b[0m\u001b[37m\u001b[0m \u001b[1m21s\u001b[0m 26ms/step - loss: 76.2835 - mae: 7.0768 - val_loss: 65.8145 - val_mae: 6.6774\n",
      "Epoch 6/10\n",
      "\u001b[1m819/819\u001b[0m \u001b[32m━━━━━━━━━━━━━━━━━━━━\u001b[0m\u001b[37m\u001b[0m \u001b[1m21s\u001b[0m 26ms/step - loss: 76.2772 - mae: 7.0767 - val_loss: 65.2878 - val_mae: 6.6506\n",
      "Epoch 7/10\n",
      "\u001b[1m819/819\u001b[0m \u001b[32m━━━━━━━━━━━━━━━━━━━━\u001b[0m\u001b[37m\u001b[0m \u001b[1m22s\u001b[0m 27ms/step - loss: 76.2663 - mae: 7.0758 - val_loss: 65.2890 - val_mae: 6.6507\n",
      "Epoch 8/10\n",
      "\u001b[1m819/819\u001b[0m \u001b[32m━━━━━━━━━━━━━━━━━━━━\u001b[0m\u001b[37m\u001b[0m \u001b[1m20s\u001b[0m 24ms/step - loss: 76.2652 - mae: 7.0760 - val_loss: 65.4917 - val_mae: 6.6613\n",
      "Epoch 9/10\n",
      "\u001b[1m819/819\u001b[0m \u001b[32m━━━━━━━━━━━━━━━━━━━━\u001b[0m\u001b[37m\u001b[0m \u001b[1m20s\u001b[0m 24ms/step - loss: 76.2567 - mae: 7.0757 - val_loss: 65.2985 - val_mae: 6.6513\n",
      "Epoch 10/10\n",
      "\u001b[1m819/819\u001b[0m \u001b[32m━━━━━━━━━━━━━━━━━━━━\u001b[0m\u001b[37m\u001b[0m \u001b[1m22s\u001b[0m 27ms/step - loss: 76.2595 - mae: 7.0756 - val_loss: 65.9839 - val_mae: 6.6858\n",
      "\u001b[1m405/405\u001b[0m \u001b[32m━━━━━━━━━━━━━━━━━━━━\u001b[0m\u001b[37m\u001b[0m \u001b[1m6s\u001b[0m 14ms/step - loss: 65.8432 - mae: 6.6396\n",
      "Test MAE: 6.64\n"
     ]
    }
   ],
   "source": [
    "inputs = keras.Input(shape=(sequence_length, raw_data.shape[-1]))\n",
    "x = layers.Conv1D(8, 24, activation=\"relu\") (inputs)\n",
    "x = layers.MaxPool1D(2)(x)\n",
    "x = layers.Conv1D(8, 12, activation=\"relu\") (inputs)\n",
    "x = layers.MaxPool1D(2)(x)\n",
    "x = layers.Conv1D(8, 6, activation=\"relu\") (inputs)\n",
    "x = layers.MaxPool1D(2)(x)\n",
    "outputs = layers.Dense(1) (x)\n",
    "model = keras.Model(inputs, outputs)\n",
    "\n",
    "callbacks = [\n",
    "\tkeras.callbacks.ModelCheckpoint(\"jena_conv.keras\",\n",
    "\t\t\t\t\t\t\t\t\tsave_best_only=True)\n",
    "]\n",
    "model.compile(optimizer=\"rmsprop\", loss=\"mse\", metrics=[\"mae\"])\n",
    "history = model.fit(train_dataset,\n",
    "\tepochs=10,\n",
    "\tvalidation_data=val_dataset,\n",
    "\tcallbacks=callbacks\n",
    ")\n",
    "model = keras.models.load_model(\"jena_conv.keras\")\n",
    "print(\"Test MAE: %.2f\" % model.evaluate(test_dataset)[1])\n"
   ]
  },
  {
   "cell_type": "markdown",
   "id": "9ba7fd98",
   "metadata": {},
   "source": [
    "We get the training and validation curves shown in figure 10.4. As it turns out, this model performs even worse than the densely connected one, only achieving a validation MAE of about 2.9 degrees, far from the common-sense baseline. What went wrong here? Two things:\n",
    "- First, weather data doesn’t quite respect the translation invariance assumption. While the data does feature daily cycles, data from a morning follows different properties than data from an evening or from the middle of the night. Weather data is only translation-invariant for a very specific timescale.\n",
    "- Second, order in our data matters—a lot. The recent past is far more informative for predicting the next day’s temperature than data from five days ago. A 1D convnet is not able to leverage this fact. In particular, our max pooling and global average pooling layers are largely destroying order information."
   ]
  },
  {
   "cell_type": "markdown",
   "id": "bfa099a8",
   "metadata": {},
   "source": [
    "### 10.2.5 A first recurrent baseline"
   ]
  },
  {
   "cell_type": "markdown",
   "id": "365ea5f8",
   "metadata": {},
   "source": [
    "Neither the fully connected approach nor the convolutional approach did well, but that doesn’t mean machine learning isn’t applicable to this problem. The densely connected approach first flattened the timeseries, which removed the notion of time from the input data. The convolutional approach treated every segment of the data in the same way, even applying pooling, which destroyed order information."
   ]
  },
  {
   "cell_type": "markdown",
   "id": "4d5af851",
   "metadata": {},
   "source": [
    "There’s a family of neural network architectures designed specifically for this use case: recurrent neural networks. Among them, the Long Short Term Memory (LSTM) layer has long been very popular. We’ll see in a minute how these models work, but let’s start by giving the LSTM layer a try."
   ]
  },
  {
   "cell_type": "markdown",
   "id": "e1d42066",
   "metadata": {},
   "source": [
    "#### Listing 10.12 A simple LSTM-based model"
   ]
  },
  {
   "cell_type": "markdown",
   "id": "653cf539",
   "metadata": {},
   "source": [
    "#### We’ll use timeseries_dataset_from_array() to instantiate three datasets: one for training, one for validation, and one for testing.\n",
    "We’ll use the following parameter values::\n",
    "- sampling_rate = 6—Observations will be sampled at one data point per hour: we will only keep one data point out of 6.\n",
    "- sequence_length = 120—Observations will go back 5 days (120 hours).\n",
    "- delay = sampling_rate * (sequence_length + 24 - 1)—The target for a sequence will be the temperature 24 hours after the end of the sequence"
   ]
  },
  {
   "cell_type": "code",
   "execution_count": 15,
   "id": "686b3d97",
   "metadata": {},
   "outputs": [
    {
     "name": "stdout",
     "output_type": "stream",
     "text": [
      "Epoch 1/10\n"
     ]
    },
    {
     "name": "stdout",
     "output_type": "stream",
     "text": [
      "\u001b[1m819/819\u001b[0m \u001b[32m━━━━━━━━━━━━━━━━━━━━\u001b[0m\u001b[37m\u001b[0m \u001b[1m31s\u001b[0m 36ms/step - loss: 36.7442 - mae: 4.4101 - val_loss: 12.0269 - val_mae: 2.6595\n",
      "Epoch 2/10\n",
      "\u001b[1m819/819\u001b[0m \u001b[32m━━━━━━━━━━━━━━━━━━━━\u001b[0m\u001b[37m\u001b[0m \u001b[1m29s\u001b[0m 35ms/step - loss: 10.7130 - mae: 2.5490 - val_loss: 10.4129 - val_mae: 2.4881\n",
      "Epoch 3/10\n",
      "\u001b[1m819/819\u001b[0m \u001b[32m━━━━━━━━━━━━━━━━━━━━\u001b[0m\u001b[37m\u001b[0m \u001b[1m29s\u001b[0m 35ms/step - loss: 9.6913 - mae: 2.4356 - val_loss: 10.3503 - val_mae: 2.4800\n",
      "Epoch 4/10\n",
      "\u001b[1m819/819\u001b[0m \u001b[32m━━━━━━━━━━━━━━━━━━━━\u001b[0m\u001b[37m\u001b[0m \u001b[1m29s\u001b[0m 35ms/step - loss: 9.3119 - mae: 2.3873 - val_loss: 10.3366 - val_mae: 2.4770\n",
      "Epoch 5/10\n",
      "\u001b[1m819/819\u001b[0m \u001b[32m━━━━━━━━━━━━━━━━━━━━\u001b[0m\u001b[37m\u001b[0m \u001b[1m29s\u001b[0m 35ms/step - loss: 9.0393 - mae: 2.3494 - val_loss: 9.7501 - val_mae: 2.4181\n",
      "Epoch 6/10\n",
      "\u001b[1m819/819\u001b[0m \u001b[32m━━━━━━━━━━━━━━━━━━━━\u001b[0m\u001b[37m\u001b[0m \u001b[1m29s\u001b[0m 35ms/step - loss: 8.8579 - mae: 2.3214 - val_loss: 9.9114 - val_mae: 2.4332\n",
      "Epoch 7/10\n",
      "\u001b[1m819/819\u001b[0m \u001b[32m━━━━━━━━━━━━━━━━━━━━\u001b[0m\u001b[37m\u001b[0m \u001b[1m29s\u001b[0m 35ms/step - loss: 8.6984 - mae: 2.2961 - val_loss: 10.1668 - val_mae: 2.4609\n",
      "Epoch 8/10\n",
      "\u001b[1m819/819\u001b[0m \u001b[32m━━━━━━━━━━━━━━━━━━━━\u001b[0m\u001b[37m\u001b[0m \u001b[1m29s\u001b[0m 36ms/step - loss: 8.5183 - mae: 2.2697 - val_loss: 9.8046 - val_mae: 2.4199\n",
      "Epoch 9/10\n",
      "\u001b[1m819/819\u001b[0m \u001b[32m━━━━━━━━━━━━━━━━━━━━\u001b[0m\u001b[37m\u001b[0m \u001b[1m29s\u001b[0m 35ms/step - loss: 8.3824 - mae: 2.2487 - val_loss: 9.9988 - val_mae: 2.4366\n",
      "Epoch 10/10\n",
      "\u001b[1m819/819\u001b[0m \u001b[32m━━━━━━━━━━━━━━━━━━━━\u001b[0m\u001b[37m\u001b[0m \u001b[1m29s\u001b[0m 36ms/step - loss: 8.2193 - mae: 2.2269 - val_loss: 10.0964 - val_mae: 2.4538\n",
      "\u001b[1m405/405\u001b[0m \u001b[32m━━━━━━━━━━━━━━━━━━━━\u001b[0m\u001b[37m\u001b[0m \u001b[1m6s\u001b[0m 14ms/step - loss: 11.9058 - mae: 2.6013\n",
      "Test MAE: 2.60\n"
     ]
    },
    {
     "data": {
      "image/png": "[encoded data removed]",
      "text/plain": [
       "<Figure size 640x480 with 1 Axes>"
      ]
     },
     "metadata": {},
     "output_type": "display_data"
    }
   ],
   "source": [
    "inputs = keras.Input(shape=(sequence_length, raw_data.shape[-1]))\n",
    "x = layers.LSTM(16)(inputs)\n",
    "outputs = layers.Dense(1)(x)\n",
    "model = keras.Model(inputs, outputs)\n",
    "\n",
    "callbacks = [\n",
    "\tkeras.callbacks.ModelCheckpoint(\"jena_lstm.keras\",\n",
    "\t\t\t\t\t\t\t\t\tsave_best_only=True)\n",
    "]\n",
    "model.compile(optimizer=\"rmsprop\", loss=\"mse\", metrics=[\"mae\"])\n",
    "history = model.fit(train_dataset,\n",
    "\tepochs=10,\n",
    "\tvalidation_data=val_dataset,\n",
    "\tcallbacks=callbacks)\n",
    "\n",
    "model = keras.models.load_model(\"jena_lstm.keras\")\n",
    "print(\"Test MAE: %.2f\" % model.evaluate(test_dataset)[1])\n",
    "\n",
    "#plotting the results:\n",
    "import matplotlib.pyplot as plt\n",
    "\n",
    "loss = history.history[\"mae\"]\n",
    "val_loss = history.history[\"val_mae\"]\n",
    "epochs = range(1, len(loss) + 1)\n",
    "plt.figure()\n",
    "plt.plot(epochs, loss, \"bo\", label=\"Training MAE\")\n",
    "plt.plot(epochs, val_loss, \"b\", label=\"Validation MAE\")\n",
    "plt.title(\"Training and validation MAE (from our model)\")\n",
    "plt.legend()\n",
    "plt.show()\n",
    "\n",
    "\n",
    "\n"
   ]
  },
  {
   "cell_type": "markdown",
   "id": "4dba7d33",
   "metadata": {},
   "source": [
    "But why did the LSTM model perform markedly better than the densely connected one or the convnet? And how can we further refine the model? To answer this, let’s take a closer look at recurrent neural networks."
   ]
  },
  {
   "cell_type": "markdown",
   "id": "c87c4821",
   "metadata": {},
   "source": [
    "an RNN is a for loop that reuses quantities computed during the previous iteration of the loop, nothing more. Of course, there are many different RNNs fitting this definition that you could build—this example is one of the simplest RNN formulations. RNNs are characterized by their step function, such as the following function in this case ("
   ]
  },
  {
   "cell_type": "markdown",
   "id": "7ad17716",
   "metadata": {},
   "source": [
    "output_t = np.tanh(np.dot(W, input_t) + np.dot(U, state_t) + b)"
   ]
  },
  {
   "cell_type": "markdown",
   "id": "7bf3066e",
   "metadata": {},
   "source": [
    "NOTE: In this example, the final output is a rank-2 tensor of shape (timesteps, output_features), where each timestep is the output of the loop at time t. Each timestep t in the output tensor contains information about timesteps 0 to t in the input sequence—about the entire past. For this reason, in many cases, you don’t need this full sequence of outputs; you just need the last output (output_t at the end of the loop), because it already contains information about the entire sequence."
   ]
  },
  {
   "cell_type": "markdown",
   "id": "a85cd53a",
   "metadata": {},
   "source": [
    "### 10.3.1 A recurrent layer in Keras"
   ]
  },
  {
   "cell_type": "markdown",
   "id": "15a4efde",
   "metadata": {},
   "source": [
    "SimpleRNN processes batches of sequences This means it takes inputs of shape (batch_size, timesteps, input_features), rather than (timesteps, input_features). When specifying the shape argument of the initial Input(), note that you can set the timesteps entry to None, which enables your network to process sequences of arbitrary length."
   ]
  },
  {
   "cell_type": "code",
   "execution_count": 16,
   "id": "e8cc02bc",
   "metadata": {},
   "outputs": [],
   "source": [
    "# an RNN layer that can process sequences of any length:\n",
    "num_features = 14\n",
    "inputs = keras.Input(shape=(None, num_features))\n",
    "outputs = layers.SimpleRNN(16) (inputs)"
   ]
  }
 ],
 "metadata": {
  "kernelspec": {
   "display_name": "env",
   "language": "python",
   "name": "python3"
  },
  "language_info": {
   "codemirror_mode": {
    "name": "ipython",
    "version": 3
   },
   "file_extension": ".py",
   "mimetype": "text/x-python",
   "name": "python",
   "nbconvert_exporter": "python",
   "pygments_lexer": "ipython3",
   "version": "3.12.3"
  }
 },
 "nbformat": 4,
 "nbformat_minor": 5
}
