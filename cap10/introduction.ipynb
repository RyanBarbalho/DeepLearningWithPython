{
 "cells": [
  {
   "cell_type": "markdown",
   "id": "f0e30891",
   "metadata": {},
   "source": [
    "# cap 10 - Deep learning  for timeseries"
   ]
  },
  {
   "cell_type": "markdown",
   "id": "99942b26",
   "metadata": {},
   "source": [
    "## This chapter covers:\n",
    "\n",
    "- Examples of machine learning tasks that involve timeseries data\n",
    "- Understanding recurrent neural networks (RNNs)\n",
    "- Applying RNNs to a temperature-forecasting example\n",
    "- Advanced RNN usage patterns"
   ]
  },
  {
   "cell_type": "markdown",
   "id": "1b24903f",
   "metadata": {},
   "source": [
    "A timeseries can be any data obtained via measurements at regular intervals, like the daily price of a stock, the hourly electricity consumption of a city, or the weekly sales of a store."
   ]
  },
  {
   "cell_type": "markdown",
   "id": "ca6ef3f7",
   "metadata": {},
   "source": [
    "the most common timeseries-related task is forecasting: predicting what will happen next in a series."
   ]
  },
  {
   "cell_type": "markdown",
   "id": "eb004677",
   "metadata": {},
   "source": [
    "other things you can do with timeseries:\n",
    "- Classification—Assign one or more categorical labels to a timeseries. For instance, given the timeseries of the activity of a visitor on a website, classify whether the visitor is a bot or a human.\n",
    "- Event detection—Identify the occurrence of a specific expected event within a continuous data stream. A particularly useful application is “hotword detection,” where a model monitors an audio stream and detects utterances like “Ok Google” or “Hey Alexa.”\n",
    "- Anomaly detection—Detect anything unusual happening within a continuous datastream. Unusual activity on your corporate network? Might be an attacker. Unusual readings on a manufacturing line? Time for a human to go take a look. Anomaly detection is typically done via unsupervised learning, because you often don’t know what kind of anomaly you’re looking for, so you can’t train on specific anomaly examples."
   ]
  },
  {
   "cell_type": "markdown",
   "id": "c21421f0",
   "metadata": {},
   "source": [
    "In the context of deep learning, Fourier analysis (or the related Mel-frequency analysis) and other domain-specific representations can be useful as a form of feature engineering, a way to prepare data before training a model on it, to make the job of the model easier. However, we won’t cover these techniques in these pages; we will instead focus on the modeling part."
   ]
  },
  {
   "cell_type": "markdown",
   "id": "978fa4a3",
   "metadata": {},
   "source": [
    "In this chapter, you’ll learn about recurrent neural networks (RNNs) and how to apply them to timeseries forecasting."
   ]
  },
  {
   "cell_type": "markdown",
   "id": "5c20b1c1",
   "metadata": {},
   "source": [
    "## 10.2 A temperature-forecasting example"
   ]
  },
  {
   "cell_type": "markdown",
   "id": "2ed7dd11",
   "metadata": {},
   "source": [
    "predicting the temperature 24 hours in the future, given a timeseries of hourly measurements of quantities such as atmospheric pressure and humidity, recorded over the recent past by a set of sensors on the roof of a building."
   ]
  },
  {
   "cell_type": "markdown",
   "id": "16de3d3f",
   "metadata": {},
   "source": [
    "We’ll work with a weather timeseries dataset recorded at the weather station at the Max Planck Institute for Biogeochemistry in Jena, Germany.1 In this dataset, 14 different quantities (such as temperature, pressure, humidity, wind direction, and so on) were recorded every 10 minutes over several years. The original data goes back to 2003, but the subset of the data we’ll download is limited to 2009–2016."
   ]
  },
  {
   "cell_type": "markdown",
   "id": "bd376058",
   "metadata": {},
   "source": [
    "Listing 10.1 Inspecting the data of the Jena weather dataset"
   ]
  },
  {
   "cell_type": "code",
   "execution_count": null,
   "id": "fa609f10",
   "metadata": {},
   "outputs": [
    {
     "name": "stderr",
     "output_type": "stream",
     "text": [
      "'wget' n�o � reconhecido como um comando interno\n",
      "ou externo, um programa oper�vel ou um arquivo em lotes.\n",
      "'unzip' n�o � reconhecido como um comando interno\n",
      "ou externo, um programa oper�vel ou um arquivo em lotes.\n"
     ]
    }
   ],
   "source": [
    "!wget https://s3.amazonaws.com/keras-datasets/jena_climate_2009_2016.csv.zip\n",
    "!unzip jena_climate_2009_2016.csv.zip"
   ]
  },
  {
   "cell_type": "code",
   "execution_count": 3,
   "id": "7875afc5",
   "metadata": {},
   "outputs": [
    {
     "name": "stdout",
     "output_type": "stream",
     "text": [
      "['\"Date Time\"', '\"p (mbar)\"', '\"T (degC)\"', '\"Tpot (K)\"', '\"Tdew (degC)\"', '\"rh (%)\"', '\"VPmax (mbar)\"', '\"VPact (mbar)\"', '\"VPdef (mbar)\"', '\"sh (g/kg)\"', '\"H2OC (mmol/mol)\"', '\"rho (g/m**3)\"', '\"wv (m/s)\"', '\"max. wv (m/s)\"', '\"wd (deg)\"']\n",
      "420451\n"
     ]
    }
   ],
   "source": [
    "import os\n",
    "fname = os.path.join(\"jena_climate_2009_2016.csv\")\n",
    "\n",
    "with open(fname) as f:\n",
    "\tdata = f.read()\n",
    "\n",
    "lines = data.split(\"\\n\")\n",
    "header = lines[0].split(\",\")\n",
    "lines = lines[1:]\n",
    "\n",
    "print(header)\n",
    "print(len(lines))\n"
   ]
  },
  {
   "cell_type": "markdown",
   "id": "4521e035",
   "metadata": {},
   "source": [
    "Now, convert all 420,551 lines of data into NumPy arrays: one array for the temperature (in degrees Celsius), and another one for the rest of the data—the features we will use to predict future temperatures. Note that we discard the “Date Time” column"
   ]
  },
  {
   "cell_type": "code",
   "execution_count": null,
   "id": "3e3e65fe",
   "metadata": {},
   "outputs": [],
   "source": [
    "import numpy as np\n",
    "\n",
    "temperature = np.zeros((len(lines),))\n",
    "raw_data = np.zeros((len(lines), len(header) - 1))\n",
    "\n",
    "for i, line in enumerate(lines):\n",
    "\tvalues = [float(x) for x in line.split(\",\")[1:]]\n",
    "\ttemperature[i] = values[1]\n",
    "\traw_data[i, :] = values[:]"
   ]
  }
 ],
 "metadata": {
  "kernelspec": {
   "display_name": "env",
   "language": "python",
   "name": "python3"
  },
  "language_info": {
   "codemirror_mode": {
    "name": "ipython",
    "version": 3
   },
   "file_extension": ".py",
   "mimetype": "text/x-python",
   "name": "python",
   "nbconvert_exporter": "python",
   "pygments_lexer": "ipython3",
   "version": "3.12.3"
  }
 },
 "nbformat": 4,
 "nbformat_minor": 5
}
