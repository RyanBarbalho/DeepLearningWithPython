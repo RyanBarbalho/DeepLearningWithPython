{
 "cells": [
  {
   "cell_type": "markdown",
   "id": "96ef1dfd",
   "metadata": {},
   "source": [
    "#### this chapter covers:\n",
    "- Understanding convolutional neural networks (convnets)\n",
    "- Using data augmentation to mitigate overfitting\n",
    "- Using a pretrained convnet to do feature extraction\n",
    "- Fine-tuning a pretrained convnet"
   ]
  }
 ],
 "metadata": {
  "language_info": {
   "name": "python"
  }
 },
 "nbformat": 4,
 "nbformat_minor": 5
}
