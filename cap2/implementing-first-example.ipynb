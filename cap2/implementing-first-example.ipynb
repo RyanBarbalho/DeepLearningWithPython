{
 "cells": [
  {
   "cell_type": "markdown",
   "id": "bdf63532",
   "metadata": {},
   "source": [
    "2.5.1 implementando o primeiro exemplo"
   ]
  },
  {
   "cell_type": "markdown",
   "id": "bee4de6f",
   "metadata": {},
   "source": [
    "implementar a classe NaiveDense que cria duas variaveis TensorFlow, w e b, e declara a função call que aplica a função de ativação e retorna a saída"
   ]
  },
  {
   "cell_type": "markdown",
   "id": "5f5f9a6b",
   "metadata": {},
   "source": [
    "Naive Dense = camada densa"
   ]
  },
  {
   "cell_type": "code",
   "execution_count": 39,
   "id": "28025222",
   "metadata": {},
   "outputs": [],
   "source": [
    "import tensorflow as tf\n",
    "\n",
    "class NaiveDense:\n",
    "    def __init__(self, input_size, output_size, activation):\n",
    "        self.activation = activation\n",
    "\n",
    "        #cria uma matriz W com shape (input_size, output_size)\n",
    "        # ele tem esse shape porque a camada espera que para cada\n",
    "        # quantidade de inputs (input_size) ele vai produzir n outputs\n",
    "        # com valores aleatorios\n",
    "        w_shape = (input_size, output_size)\n",
    "        w_initial_value = tf.random.uniform(w_shape,\n",
    "                                            minval=0,\n",
    "                                            maxval=1e-1)\n",
    "        self.W = tf.Variable(w_initial_value)\n",
    "\n",
    "        #cria um vetor b com shape (output_size) com valores\n",
    "        # iniciais zero\n",
    "        b_shape = (output_size)\n",
    "        b_initial_value = tf.zeros(b_shape)\n",
    "        self.b = tf.Variable(b_initial_value)\n",
    "\n",
    "    def __call__(self, inputs):\n",
    "        #aplica o forward pass\n",
    "        return self.activation(tf.matmul(inputs, self.W) + self.b)\n",
    "\n",
    "    #método conveniente para chamar os pesos da camada\n",
    "    @property\n",
    "    def weights(self):\n",
    "        return [self.W, self.b]"
   ]
  },
  {
   "cell_type": "markdown",
   "id": "940e10ae",
   "metadata": {},
   "source": [
    "A simple Sequential class"
   ]
  },
  {
   "cell_type": "markdown",
   "id": "7c203257",
   "metadata": {},
   "source": [
    "\n",
    "Criar uma classe NaiveSequential para encadear as camadas. Ela envolve uma lista de camadas e declara a __call__() que chama as camadas subjacentes (em baixo) nos inputs. tambem tem a propriedade weights que mantem record dos parametros dessas camdas.\n"
   ]
  },
  {
   "cell_type": "code",
   "execution_count": 38,
   "id": "68c3bca2",
   "metadata": {},
   "outputs": [],
   "source": [
    "class NaiveSequential:\n",
    "    def __init__(self, layers):\n",
    "        self.layers = layers\n",
    "\n",
    "    def __call__(self, inputs):\n",
    "        x = inputs\n",
    "        for layer in self.layers:\n",
    "            x = layer(x)\n",
    "        return x\n",
    "\n",
    "    @property\n",
    "    def weights(self):\n",
    "        weights = []\n",
    "        for layer in self.layers:\n",
    "            weights += layer.weights\n",
    "        return weights"
   ]
  },
  {
   "cell_type": "markdown",
   "id": "a1e21e4d",
   "metadata": {},
   "source": [
    "Com essas duas classes podemos criar um mock de um Keras model:"
   ]
  },
  {
   "cell_type": "code",
   "execution_count": 37,
   "id": "469d52f5",
   "metadata": {},
   "outputs": [],
   "source": [
    "model = NaiveSequential([\n",
    "    NaiveDense(input_size=28 * 28, output_size=512, activation=tf.nn.relu),\n",
    "    NaiveDense(input_size=512, output_size=10, activation=tf.nn.softmax)\n",
    "])\n",
    "#modelo deve ter 4 pesos: 2 matrizes de w e 2 vetores de b\n",
    "assert len(model.weights) == 4"
   ]
  },
  {
   "cell_type": "markdown",
   "id": "770b9efe",
   "metadata": {},
   "source": [
    "agora usaremos o MNIST para obter nossos lotes de dados e testar o modelo, iterando sobre os mini-lotes (mini-batches)"
   ]
  },
  {
   "cell_type": "code",
   "execution_count": 36,
   "id": "1d3de665",
   "metadata": {},
   "outputs": [],
   "source": [
    "import math\n",
    "\n",
    "class BatchGenerator:\n",
    "    def __init__(self, images, labels, batch_size):\n",
    "        assert len(images) == len(labels)\n",
    "        self.index = 0\n",
    "        self.images = images\n",
    "        self.labels = labels\n",
    "        self.batch_size = batch_size\n",
    "        self.num_batches = math.ceil(len(images) / batch_size)\n",
    "\n",
    "    def next(self):\n",
    "        images = self.images[self.index : self.index + self.batch_size]\n",
    "        labels = self.labels[self.index : self.index + self.batch_size]\n",
    "        self.index += self.batch_size\n",
    "        return images, labels"
   ]
  },
  {
   "cell_type": "markdown",
   "id": "69f5b6da",
   "metadata": {},
   "source": [
    "2.5.2 running one training step"
   ]
  },
  {
   "cell_type": "markdown",
   "id": "a45c9c9a",
   "metadata": {},
   "source": [
    "- 1 Compute the predictions of the model for the images in the batch. \n",
    "- 2 Compute the loss value for these predictions, given the actual labels. \n",
    "- 3 Compute the gradient of the loss with regard to the model’s weights.\n",
    "- 4 Move the weights by a small amount in the direction opposite to the gradient."
   ]
  },
  {
   "cell_type": "code",
   "execution_count": 35,
   "id": "724b6255",
   "metadata": {},
   "outputs": [],
   "source": [
    "learning_rate = 1e-3\n",
    "def update_weights(gradients, weights):\n",
    "    for g, w in zip(gradients, weights):\n",
    "        #atualiza os pesos com o gradiente\n",
    "        #o learning rate é um hiperparâmetro que controla a magnitude da atualização\n",
    "        w.assign_sub(learning_rate * g) #assign_sub = '-=' do tensorflow\n",
    "\n",
    "def one_training_step(model, images_batch, labels_batch):\n",
    "    #roda o forward pass (computa as predições do modelo\n",
    "    # dentro do scope do GradientTape)\n",
    "    with tf.GradientTape() as tape:\n",
    "        predictions = model(images_batch)\n",
    "        per_sample_losses = tf.keras.losses.sparse_categorical_crossentropy(\n",
    "            labels_batch, predictions\n",
    "        )\n",
    "        average_loss = tf.reduce_mean(per_sample_losses)\n",
    "    #computa o gradiente da perda com relação aos pesos. os gradientes de saida\n",
    "    #sao uma lista onde cada entry correpsonde ao peso do model.weights list\n",
    "    gradients = tape.gradient(average_loss, model.weights)\n",
    "    update_weights(gradients, model.weights)\n",
    "    return average_loss\n"
   ]
  },
  {
   "cell_type": "markdown",
   "id": "e9bc15e9",
   "metadata": {},
   "source": [
    "na prática, o update step é realizado com o Optmizer do keras, não é necessário fazer na mão"
   ]
  },
  {
   "cell_type": "code",
   "execution_count": 34,
   "id": "b6df9124",
   "metadata": {},
   "outputs": [],
   "source": [
    "from tensorflow.keras import optimizers\n",
    "\n",
    "optimizer = optimizers.SGD(learning_rate=1e-3)\n",
    "\n",
    "# def update_weights(gradients, weights):\n",
    "#     optimizer.apply_gradients(zip(gradients, weights))"
   ]
  },
  {
   "cell_type": "markdown",
   "id": "ba7537f4",
   "metadata": {},
   "source": [
    "2.5.3 FULL TRAINING LOOP\n"
   ]
  },
  {
   "cell_type": "code",
   "execution_count": 27,
   "id": "36dc6ab5",
   "metadata": {},
   "outputs": [],
   "source": [
    "def fit(model, images, labels, epochs, batch_size=128):\n",
    "    for epoch_counter in range(epochs):\n",
    "        print(f\"Epoch {epoch_counter}\")\n",
    "        batch_generator = BatchGenerator(images, labels, batch_size)\n",
    "        for batch_counter in range(batch_generator.num_batches):\n",
    "            images_batch, labels_batch = batch_generator.next()\n",
    "            loss = one_training_step(model, images_batch, labels_batch)\n",
    "            if batch_counter % 100 == 0:\n",
    "                print(f\"Batch {batch_counter}, loss: {loss.numpy()}\")\n",
    "\n"
   ]
  },
  {
   "cell_type": "code",
   "execution_count": 40,
   "id": "5ea8b0bb",
   "metadata": {},
   "outputs": [
    {
     "name": "stdout",
     "output_type": "stream",
     "text": [
      "Epoch 0\n",
      "Batch 0, loss: 8.800809860229492\n",
      "Batch 100, loss: 2.272515296936035\n",
      "Batch 200, loss: 2.1893208026885986\n",
      "Batch 300, loss: 2.112562656402588\n",
      "Batch 400, loss: 2.2069334983825684\n",
      "Epoch 1\n",
      "Batch 0, loss: 1.918933391571045\n",
      "Batch 100, loss: 1.907104253768921\n",
      "Batch 200, loss: 1.808807611465454\n",
      "Batch 300, loss: 1.7170875072479248\n",
      "Batch 400, loss: 1.8184126615524292\n",
      "Epoch 2\n",
      "Batch 0, loss: 1.5861531496047974\n",
      "Batch 100, loss: 1.605689525604248\n",
      "Batch 200, loss: 1.492302656173706\n",
      "Batch 300, loss: 1.4303542375564575\n",
      "Batch 400, loss: 1.5052928924560547\n",
      "Epoch 3\n",
      "Batch 0, loss: 1.324166178703308\n",
      "Batch 100, loss: 1.3665997982025146\n",
      "Batch 200, loss: 1.234771966934204\n",
      "Batch 300, loss: 1.2150312662124634\n",
      "Batch 400, loss: 1.2753760814666748\n",
      "Epoch 4\n",
      "Batch 0, loss: 1.1244912147521973\n",
      "Batch 100, loss: 1.1831228733062744\n",
      "Batch 200, loss: 1.0375418663024902\n",
      "Batch 300, loss: 1.0546451807022095\n",
      "Batch 400, loss: 1.1107895374298096\n"
     ]
    }
   ],
   "source": [
    "from tensorflow.keras.datasets import mnist\n",
    "#carrega o dataset MNIST\n",
    "(train_images, train_labels), (test_images, test_labels) = mnist.load_data()\n",
    "#reshape para 2D, cada imagem é um vetor de 28*28 = 784 pixels\n",
    "train_images = train_images.reshape((60000, 28 * 28))\n",
    "test_images = test_images.reshape((10000, 28 * 28))\n",
    "#normaliza os valores dos pixels para o intervalo [0, 1]\n",
    "train_images = train_images.astype(\"float32\") / 255\n",
    "test_images = test_images.astype(\"float32\") / 255\n",
    "\n",
    "fit(model,train_images, train_labels, epochs=5, batch_size=128)\n"
   ]
  },
  {
   "cell_type": "markdown",
   "id": "b6cae4ad",
   "metadata": {},
   "source": [
    "podemos avaliar o moddelo pegando o argmax das predições sobre as imagens de teste e comparando com as labels esperadas"
   ]
  },
  {
   "cell_type": "code",
   "execution_count": null,
   "id": "4b67d9d9",
   "metadata": {},
   "outputs": [],
   "source": [
    "predictions = model(test_images)\n",
    "predictions = predictions.numpy()\n",
    "predicted_labels = tf.argmax(predictions, axis=1)\n",
    "matches = predicted_labels == test_labels\n",
    "accuracy = tf.reduce_mean(tf.cast(matches, tf.float32))\n",
    "print(f\"Test set accuracy: {accuracy.numpy()}\")"
   ]
  }
 ],
 "metadata": {
  "kernelspec": {
   "display_name": "env",
   "language": "python",
   "name": "python3"
  },
  "language_info": {
   "codemirror_mode": {
    "name": "ipython",
    "version": 3
   },
   "file_extension": ".py",
   "mimetype": "text/x-python",
   "name": "python",
   "nbconvert_exporter": "python",
   "pygments_lexer": "ipython3",
   "version": "3.12.3"
  }
 },
 "nbformat": 4,
 "nbformat_minor": 5
}
