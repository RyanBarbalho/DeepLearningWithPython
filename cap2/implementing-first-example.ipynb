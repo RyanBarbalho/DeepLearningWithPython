{
 "cells": [
  {
   "cell_type": "markdown",
   "id": "bdf63532",
   "metadata": {},
   "source": [
    "2.5.1 implementando o primeiro exemplo"
   ]
  },
  {
   "cell_type": "markdown",
   "id": "bee4de6f",
   "metadata": {},
   "source": [
    "implementar a classe NaiveDense que cria duas variaveis TensorFlow, w e b, e declara a função call que aplica a função de ativação e retorna a saída"
   ]
  },
  {
   "cell_type": "markdown",
   "id": "5f5f9a6b",
   "metadata": {},
   "source": [
    "Naive Dense = camada densa"
   ]
  },
  {
   "cell_type": "code",
   "execution_count": 6,
   "id": "28025222",
   "metadata": {},
   "outputs": [],
   "source": [
    "import tensorflow as tf\n",
    "\n",
    "class NaiveDense:\n",
    "    def __init__(self, input_size, output_size, activation):\n",
    "        self.activation = activation\n",
    "\n",
    "        #cria uma matriz W com shape (input_size, output_size)\n",
    "        # ele tem esse shape porque a camada espera que para cada\n",
    "        # quantidade de inputs (input_size) ele vai produzir n outputs\n",
    "        # com valores aleatorios\n",
    "        w_shape = (input_size, output_size)\n",
    "        w_initial_value = tf.random.uniform(w_shape,\n",
    "                                            minval=0,\n",
    "                                            maxval=1e-1)\n",
    "        self.W = tf.Variable(w_initial_value)\n",
    "\n",
    "        #cria um vetor b com shape (output_size) com valores\n",
    "        # iniciais zero\n",
    "        b_shape = (output_size)\n",
    "        b_initial_value = tf.zeros(b_shape)\n",
    "        self.b = tf.Variable(b_initial_value)\n",
    "\n",
    "        def __call__(self, inputs):\n",
    "            #aplica o forward pass\n",
    "            return self.activation(tf.matmul(inputs, self.W) + self.b)\n",
    "\n",
    "    #método conveniente para chamar os pesos da camada\n",
    "    @property\n",
    "    def weights(self):\n",
    "        return [self.W, self.b]"
   ]
  },
  {
   "cell_type": "markdown",
   "id": "940e10ae",
   "metadata": {},
   "source": [
    "A simple Sequential class"
   ]
  },
  {
   "cell_type": "markdown",
   "id": "7c203257",
   "metadata": {},
   "source": [
    "\n",
    "Criar uma classe NaiveSequential para encadear as camadas. Ela envolve uma lista de camadas e declara a __call__() que chama as camadas subjacentes (em baixo) nos inputs. tambem tem a propriedade weights que mantem record dos parametros dessas camdas.\n"
   ]
  },
  {
   "cell_type": "code",
   "execution_count": null,
   "id": "68c3bca2",
   "metadata": {},
   "outputs": [],
   "source": [
    "class NaiveSequential:\n",
    "    def __init__(self, layers):\n",
    "        self.layers = layers\n",
    "\n",
    "    def __call__(self, inputs):\n",
    "        x = inputs\n",
    "        for layer in self.layers:\n",
    "            x = layer(x)\n",
    "        return x\n",
    "\n",
    "    @property\n",
    "    def weights(self):\n",
    "        weights = []\n",
    "        for layer in self.layers:\n",
    "            weights += layer.weights\n",
    "        return weights"
   ]
  },
  {
   "cell_type": "markdown",
   "id": "a1e21e4d",
   "metadata": {},
   "source": [
    "Com essas duas classes podemos criar um mock de um Keras model:"
   ]
  },
  {
   "cell_type": "code",
   "execution_count": null,
   "id": "469d52f5",
   "metadata": {},
   "outputs": [],
   "source": [
    "model = NaiveSequential([\n",
    "    NaiveDense(input_size=28 * 28, output_size=512, activation=tf.nn.relu),\n",
    "    NaiveDense(input_size=512, output_size=10, activation=tf.nn.softmax)\n",
    "])\n",
    "#modelo deve ter 4 pesos: 2 matrizes de w e 2 vetores de b\n",
    "assert len(model.weights) == 4"
   ]
  }
 ],
 "metadata": {
  "kernelspec": {
   "display_name": "env",
   "language": "python",
   "name": "python3"
  },
  "language_info": {
   "codemirror_mode": {
    "name": "ipython",
    "version": 3
   },
   "file_extension": ".py",
   "mimetype": "text/x-python",
   "name": "python",
   "nbconvert_exporter": "python",
   "pygments_lexer": "ipython3",
   "version": "3.12.3"
  }
 },
 "nbformat": 4,
 "nbformat_minor": 5
}
