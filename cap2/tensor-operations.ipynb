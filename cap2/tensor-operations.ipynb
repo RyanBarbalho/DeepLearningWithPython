{
 "cells": [
  {
   "cell_type": "markdown",
   "id": "499cad57",
   "metadata": {},
   "source": [
    "The gears of neural networks: Tensor operations"
   ]
  }
 ],
 "metadata": {
  "language_info": {
   "name": "python"
  }
 },
 "nbformat": 4,
 "nbformat_minor": 5
}
