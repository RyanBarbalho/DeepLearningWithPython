{
 "cells": [
  {
   "cell_type": "markdown",
   "id": "499cad57",
   "metadata": {},
   "source": [
    "The gears of neural networks: Tensor operations"
   ]
  },
  {
   "cell_type": "code",
   "execution_count": 1,
   "id": "0e0b9db8",
   "metadata": {},
   "outputs": [],
   "source": [
    "import numpy as np"
   ]
  },
  {
   "cell_type": "code",
   "execution_count": null,
   "id": "e34111e9",
   "metadata": {},
   "outputs": [
    {
     "name": "stdout",
     "output_type": "stream",
     "text": [
      "[[ 1.  -0.5  0.3 -2. ]\n",
      " [-1.   0.8 -0.2  1.5]]\n",
      "[[1.  0.  0.3 0. ]\n",
      " [0.  0.8 0.  1.5]]\n"
     ]
    }
   ],
   "source": [
    "def naive_relu(x):\n",
    "    assert len(x.shape) == 2\n",
    "    x = x.copy()\n",
    "    for i in range (x.shape[0]):\n",
    "        for j in range (x.shape[1]):\n",
    "            x[i,j] = max(x[i,j], 0)\n",
    "    return x\n",
    "    \n",
    "x_with_negatives = np.array([[1.0, -0.5, 0.3, -2.0],\n",
    "                             [-1.0, 0.8, -0.2, 1.5]])\n",
    "print(x)\n",
    "print(naive_relu(x))"
   ]
  },
  {
   "cell_type": "code",
   "execution_count": 14,
   "id": "0e854988",
   "metadata": {},
   "outputs": [
    {
     "name": "stdout",
     "output_type": "stream",
     "text": [
      "[[0.44050845 0.54170616 0.83269626 0.71916955]\n",
      " [0.93487984 0.62050752 0.22467533 0.35820008]]\n",
      "[[0.77371559 0.97920905 0.57944027 0.15634176]\n",
      " [0.08824781 0.23568626 0.34652213 0.24190138]]\n",
      "[[1.21422404 1.52091521 1.41213653 0.87551131]\n",
      " [1.02312765 0.85619377 0.57119746 0.60010146]]\n"
     ]
    }
   ],
   "source": [
    "def naive_add(x, y):\n",
    "    x = x.copy()\n",
    "    for i in range(x.shape[0]):\n",
    "        for j in range(x.shape[1]):\n",
    "            x[i,j] += y[i,j]\n",
    "            \n",
    "    return x\n",
    "\n",
    "x = np.random.rand(2,4)\n",
    "y = np.random.rand(2,4)\n",
    "print(x)\n",
    "print(y)\n",
    "print(naive_add(x,y))"
   ]
  },
  {
   "cell_type": "code",
   "execution_count": 15,
   "id": "4aea9278",
   "metadata": {},
   "outputs": [
    {
     "name": "stdout",
     "output_type": "stream",
     "text": [
      "[[1.21422404 1.52091521 1.41213653 0.87551131]\n",
      " [1.02312765 0.85619377 0.57119746 0.60010146]]\n",
      "[[1.21422404 1.52091521 1.41213653 0.87551131]\n",
      " [1.02312765 0.85619377 0.57119746 0.60010146]]\n"
     ]
    }
   ],
   "source": [
    "z = x + y\n",
    "print(z)\n",
    "print(np.maximum(z,0.))"
   ]
  },
  {
   "cell_type": "code",
   "execution_count": 17,
   "id": "97ebe4fb",
   "metadata": {},
   "outputs": [
    {
     "name": "stdout",
     "output_type": "stream",
     "text": [
      "[[0.73004279 0.71540376 0.78146939]\n",
      " [0.97935328 0.69748231 0.1894475 ]]\n",
      "[0.59523354 0.83137319 0.28112924]\n",
      "[[1.32527633 1.54677695 1.06259864]\n",
      " [1.57458682 1.5288555  0.47057674]]\n"
     ]
    }
   ],
   "source": [
    "def naive_add_matrix_and_vector(x,y):\n",
    "    x=x.copy()\n",
    "    for i in range(x.shape[0]):\n",
    "        for j in range(x.shape[1]):\n",
    "            x[i,j] += y[j]\n",
    "    return x\n",
    "            \n",
    "x = np.random.rand(2,3)\n",
    "y = np.random.rand(3)\n",
    "\n",
    "print(x)\n",
    "print(y)\n",
    "print(naive_add_matrix_and_vector(x,y))"
   ]
  },
  {
   "cell_type": "code",
   "execution_count": 18,
   "id": "ec18f8de",
   "metadata": {},
   "outputs": [
    {
     "name": "stdout",
     "output_type": "stream",
     "text": [
      "[1.24900736 1.21607124]\n"
     ]
    }
   ],
   "source": [
    "def naive_vector_dot(x, y):\n",
    "    z = 0\n",
    "    for i in range(x.shape[0]):\n",
    "        z += x[i] * y[i]\n",
    "    return z\n",
    "\n",
    "def naive_matrix_vector_dot(x, y):\n",
    "    z = np.zeros(x.shape[0])\n",
    "    for i in range(x.shape[0]):\n",
    "        z[i] = naive_vector_dot(x[i,:], y)\n",
    "        \n",
    "    return z\n",
    "\n",
    "print(naive_matrix_vector_dot(x,y))"
   ]
  },
  {
   "cell_type": "markdown",
   "id": "367466f5",
   "metadata": {},
   "source": [
    "RESHAPING"
   ]
  },
  {
   "cell_type": "code",
   "execution_count": 22,
   "id": "e121c470",
   "metadata": {},
   "outputs": [
    {
     "name": "stdout",
     "output_type": "stream",
     "text": [
      "(3, 2)\n",
      "[[0.]\n",
      " [1.]\n",
      " [2.]\n",
      " [3.]\n",
      " [4.]\n",
      " [5.]]\n"
     ]
    }
   ],
   "source": [
    "x = np.array([[0., 1.],\n",
    "            [2., 3.],\n",
    "            [4., 5.]])\n",
    "print(x.shape)\n",
    "x = x.reshape((6,1))\n",
    "print(x)"
   ]
  },
  {
   "cell_type": "markdown",
   "id": "6edb31de",
   "metadata": {},
   "source": [
    "transposition"
   ]
  },
  {
   "cell_type": "code",
   "execution_count": 23,
   "id": "e13ace89",
   "metadata": {},
   "outputs": [
    {
     "data": {
      "text/plain": [
       "(20, 300)"
      ]
     },
     "execution_count": 23,
     "metadata": {},
     "output_type": "execute_result"
    }
   ],
   "source": [
    "x = np.zeros((300,20))\n",
    "x= np.transpose(x)\n",
    "x.shape"
   ]
  }
 ],
 "metadata": {
  "kernelspec": {
   "display_name": "venv",
   "language": "python",
   "name": "python3"
  },
  "language_info": {
   "codemirror_mode": {
    "name": "ipython",
    "version": 3
   },
   "file_extension": ".py",
   "mimetype": "text/x-python",
   "name": "python",
   "nbconvert_exporter": "python",
   "pygments_lexer": "ipython3",
   "version": "3.13.3"
  }
 },
 "nbformat": 4,
 "nbformat_minor": 5
}
