{
 "cells": [
  {
   "cell_type": "markdown",
   "id": "b961ec0f",
   "metadata": {},
   "source": [
    "### This chapter covers:\n",
    "\n",
    "- Steps for framing a machine learning problem\n",
    "- Steps for developing a working model\n",
    "- Steps for deploying your model in production and maintaining it"
   ]
  }
 ],
 "metadata": {
  "language_info": {
   "name": "python"
  }
 },
 "nbformat": 4,
 "nbformat_minor": 5
}
