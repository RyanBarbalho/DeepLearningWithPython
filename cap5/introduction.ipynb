{
 "cells": [
  {
   "cell_type": "markdown",
   "id": "b77c5d49",
   "metadata": {},
   "source": [
    "### This chapter covers:\n",
    "- Understanding the tension between generalization and optimization, the fundamental issue in machine learning Evaluation methods for machine learning models\n",
    "- Best practices to improve model fitting\n",
    "- Best practices to achieve better generalization"
   ]
  }
 ],
 "metadata": {
  "language_info": {
   "name": "python"
  }
 },
 "nbformat": 4,
 "nbformat_minor": 5
}
