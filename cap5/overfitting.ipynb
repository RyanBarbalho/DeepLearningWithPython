{
 "cells": [
  {
   "cell_type": "markdown",
   "id": "b58d22c8",
   "metadata": {},
   "source": [
    "### Adding white noise channels or all-zeros channels to MNIST"
   ]
  },
  {
   "cell_type": "code",
   "execution_count": 1,
   "id": "9df9f182",
   "metadata": {},
   "outputs": [],
   "source": [
    "from keras.datasets import mnist\n",
    "import numpy as np\n",
    "\n",
    "(train_images, train_labels), _ = mnist.load_data()\n",
    "train_images = train_images.reshape((60000, 28 * 28))\n",
    "train_images = train_images.astype(\"float32\") / 255\n",
    "\n",
    "train_images_with_noise_channels = np.concatenate(\n",
    "\t[train_images, np.random.random((len(train_images), 784))],\n",
    "\taxis=1\n",
    ")\n",
    "\n",
    "train_images_with_zeros_channels = np.concatenate(\n",
    "\t[train_images, np.zeros((len(train_images), 784))],\n",
    "\taxis=1\n",
    ")"
   ]
  },
  {
   "cell_type": "code",
   "execution_count": null,
   "id": "60012dd2",
   "metadata": {},
   "outputs": [
    {
     "name": "stdout",
     "output_type": "stream",
     "text": [
      "Epoch 1/10\n",
      "\u001b[1m375/375\u001b[0m \u001b[32m━━━━━━━━━━━━━━━━━━━━\u001b[0m\u001b[37m\u001b[0m \u001b[1m3s\u001b[0m 6ms/step - accuracy: 0.9138 - loss: 0.2998 - val_accuracy: 0.9574 - val_loss: 0.1535\n",
      "Epoch 2/10\n",
      "\u001b[1m375/375\u001b[0m \u001b[32m━━━━━━━━━━━━━━━━━━━━\u001b[0m\u001b[37m\u001b[0m \u001b[1m2s\u001b[0m 6ms/step - accuracy: 0.9634 - loss: 0.1246 - val_accuracy: 0.9679 - val_loss: 0.1083\n",
      "Epoch 3/10\n",
      "\u001b[1m375/375\u001b[0m \u001b[32m━━━━━━━━━━━━━━━━━━━━\u001b[0m\u001b[37m\u001b[0m \u001b[1m2s\u001b[0m 6ms/step - accuracy: 0.9758 - loss: 0.0816 - val_accuracy: 0.9734 - val_loss: 0.0875\n",
      "Epoch 4/10\n",
      "\u001b[1m375/375\u001b[0m \u001b[32m━━━━━━━━━━━━━━━━━━━━\u001b[0m\u001b[37m\u001b[0m \u001b[1m2s\u001b[0m 6ms/step - accuracy: 0.9823 - loss: 0.0592 - val_accuracy: 0.9743 - val_loss: 0.0860\n",
      "Epoch 5/10\n",
      "\u001b[1m375/375\u001b[0m \u001b[32m━━━━━━━━━━━━━━━━━━━━\u001b[0m\u001b[37m\u001b[0m \u001b[1m2s\u001b[0m 6ms/step - accuracy: 0.9868 - loss: 0.0439 - val_accuracy: 0.9748 - val_loss: 0.0869\n",
      "Epoch 6/10\n",
      "\u001b[1m375/375\u001b[0m \u001b[32m━━━━━━━━━━━━━━━━━━━━\u001b[0m\u001b[37m\u001b[0m \u001b[1m2s\u001b[0m 6ms/step - accuracy: 0.9907 - loss: 0.0322 - val_accuracy: 0.9770 - val_loss: 0.0784\n",
      "Epoch 7/10\n",
      "\u001b[1m375/375\u001b[0m \u001b[32m━━━━━━━━━━━━━━━━━━━━\u001b[0m\u001b[37m\u001b[0m \u001b[1m2s\u001b[0m 6ms/step - accuracy: 0.9928 - loss: 0.0253 - val_accuracy: 0.9766 - val_loss: 0.0816\n",
      "Epoch 8/10\n",
      "\u001b[1m375/375\u001b[0m \u001b[32m━━━━━━━━━━━━━━━━━━━━\u001b[0m\u001b[37m\u001b[0m \u001b[1m2s\u001b[0m 6ms/step - accuracy: 0.9947 - loss: 0.0188 - val_accuracy: 0.9764 - val_loss: 0.0838\n",
      "Epoch 9/10\n",
      "\u001b[1m375/375\u001b[0m \u001b[32m━━━━━━━━━━━━━━━━━━━━\u001b[0m\u001b[37m\u001b[0m \u001b[1m2s\u001b[0m 6ms/step - accuracy: 0.9963 - loss: 0.0145 - val_accuracy: 0.9797 - val_loss: 0.0776\n",
      "Epoch 10/10\n",
      "\u001b[1m375/375\u001b[0m \u001b[32m━━━━━━━━━━━━━━━━━━━━\u001b[0m\u001b[37m\u001b[0m \u001b[1m2s\u001b[0m 6ms/step - accuracy: 0.9975 - loss: 0.0108 - val_accuracy: 0.9784 - val_loss: 0.0803\n"
     ]
    }
   ],
   "source": [
    "##training the same model with noise channels or zeros channels\n",
    "import keras\n",
    "from keras import layers\n",
    "\n",
    "def get_model():\n",
    "\tmodel = keras.Sequential([\n",
    "\t\tlayers.Dense(512, activation=\"relu\"),\n",
    "\t\tlayers.Dense(10, activation=\"softmax\")\n",
    "\t])\n",
    "\tmodel.compile(optimizer=\"rmsprop\",\n",
    "\t\tloss=\"sparse_categorical_crossentropy\", #sparse_categorical_crossentropy is used for integer labels np.array(train_labels)\n",
    "\t\tmetrics=[\"accuracy\"])\n",
    "\treturn model\n",
    "\n",
    "model = get_model()\n",
    "history_zeros = model.fit(\n",
    "\ttrain_images_with_zeros_channels,\n",
    "\ttrain_labels,\n",
    "\tepochs=10,\n",
    "\tbatch_size=128,\n",
    "\tvalidation_split=0.2\n",
    ")\n",
    "\n",
    "model = get_model()\n",
    "history_noise = model.fit(\n",
    "\ttrain_images_with_noise_channels,\n",
    "\ttrain_labels,\n",
    "\tepochs=10,\n",
    "\tbatch_size=128,\n",
    "\tvalidation_split=0.2\n",
    ")\n"
   ]
  },
  {
   "cell_type": "code",
   "execution_count": null,
   "id": "5e5cb34a",
   "metadata": {},
   "outputs": [],
   "source": [
    "# plotting the validation accuracy comparison\n",
    "import matplotlib.pyplot as plt\n",
    "\n",
    "plt.plot(history_zeros.history[\"val_accuracy\"], \"b-\", label=\"Validation accuracy with zeros channels\")\n",
    "plt.plot(history_noise.history[\"val_accuracy\"], \"r--\", label=\"Validation accuracy with noise channels\")\n",
    "plt.xlabel(\"Epoch\")\n",
    "plt.ylabel(\"Accuracy\")\n",
    "plt.legend()"
   ]
  }
 ],
 "metadata": {
  "kernelspec": {
   "display_name": "env",
   "language": "python",
   "name": "python3"
  },
  "language_info": {
   "codemirror_mode": {
    "name": "ipython",
    "version": 3
   },
   "file_extension": ".py",
   "mimetype": "text/x-python",
   "name": "python",
   "nbconvert_exporter": "python",
   "pygments_lexer": "ipython3",
   "version": "3.12.3"
  }
 },
 "nbformat": 4,
 "nbformat_minor": 5
}
